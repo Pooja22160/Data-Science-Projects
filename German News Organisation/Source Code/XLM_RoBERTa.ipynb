{
  "cells": [
    {
      "cell_type": "markdown",
      "source": [
        " reference:- https://medium.com/@keruchen/train-a-xlm-roberta-model-for-text-classification-on-pytorch-4ccf0b30f762"
      ],
      "metadata": {
        "id": "_FLP9eYpeLtl"
      }
    },
    {
      "cell_type": "code",
      "execution_count": 1,
      "metadata": {
        "colab": {
          "base_uri": "https://localhost:8080/"
        },
        "id": "Ywm7iExTh0XN",
        "outputId": "f8f6565e-6e49-4194-ec9e-6b1bc81a1c89"
      },
      "outputs": [
        {
          "output_type": "stream",
          "name": "stdout",
          "text": [
            "Collecting transformers\n",
            "  Downloading transformers-4.33.3-py3-none-any.whl (7.6 MB)\n",
            "\u001b[2K     \u001b[90m━━━━━━━━━━━━━━━━━━━━━━━━━━━━━━━━━━━━━━━━\u001b[0m \u001b[32m7.6/7.6 MB\u001b[0m \u001b[31m28.3 MB/s\u001b[0m eta \u001b[36m0:00:00\u001b[0m\n",
            "\u001b[?25hRequirement already satisfied: filelock in /usr/local/lib/python3.10/dist-packages (from transformers) (3.12.2)\n",
            "Collecting huggingface-hub<1.0,>=0.15.1 (from transformers)\n",
            "  Downloading huggingface_hub-0.17.3-py3-none-any.whl (295 kB)\n",
            "\u001b[2K     \u001b[90m━━━━━━━━━━━━━━━━━━━━━━━━━━━━━━━━━━━━━━\u001b[0m \u001b[32m295.0/295.0 kB\u001b[0m \u001b[31m25.2 MB/s\u001b[0m eta \u001b[36m0:00:00\u001b[0m\n",
            "\u001b[?25hRequirement already satisfied: numpy>=1.17 in /usr/local/lib/python3.10/dist-packages (from transformers) (1.23.5)\n",
            "Requirement already satisfied: packaging>=20.0 in /usr/local/lib/python3.10/dist-packages (from transformers) (23.1)\n",
            "Requirement already satisfied: pyyaml>=5.1 in /usr/local/lib/python3.10/dist-packages (from transformers) (6.0.1)\n",
            "Requirement already satisfied: regex!=2019.12.17 in /usr/local/lib/python3.10/dist-packages (from transformers) (2023.6.3)\n",
            "Requirement already satisfied: requests in /usr/local/lib/python3.10/dist-packages (from transformers) (2.31.0)\n",
            "Collecting tokenizers!=0.11.3,<0.14,>=0.11.1 (from transformers)\n",
            "  Downloading tokenizers-0.13.3-cp310-cp310-manylinux_2_17_x86_64.manylinux2014_x86_64.whl (7.8 MB)\n",
            "\u001b[2K     \u001b[90m━━━━━━━━━━━━━━━━━━━━━━━━━━━━━━━━━━━━━━━━\u001b[0m \u001b[32m7.8/7.8 MB\u001b[0m \u001b[31m53.2 MB/s\u001b[0m eta \u001b[36m0:00:00\u001b[0m\n",
            "\u001b[?25hCollecting safetensors>=0.3.1 (from transformers)\n",
            "  Downloading safetensors-0.3.3-cp310-cp310-manylinux_2_17_x86_64.manylinux2014_x86_64.whl (1.3 MB)\n",
            "\u001b[2K     \u001b[90m━━━━━━━━━━━━━━━━━━━━━━━━━━━━━━━━━━━━━━━━\u001b[0m \u001b[32m1.3/1.3 MB\u001b[0m \u001b[31m66.7 MB/s\u001b[0m eta \u001b[36m0:00:00\u001b[0m\n",
            "\u001b[?25hRequirement already satisfied: tqdm>=4.27 in /usr/local/lib/python3.10/dist-packages (from transformers) (4.66.1)\n",
            "Requirement already satisfied: fsspec in /usr/local/lib/python3.10/dist-packages (from huggingface-hub<1.0,>=0.15.1->transformers) (2023.6.0)\n",
            "Requirement already satisfied: typing-extensions>=3.7.4.3 in /usr/local/lib/python3.10/dist-packages (from huggingface-hub<1.0,>=0.15.1->transformers) (4.5.0)\n",
            "Requirement already satisfied: charset-normalizer<4,>=2 in /usr/local/lib/python3.10/dist-packages (from requests->transformers) (3.2.0)\n",
            "Requirement already satisfied: idna<4,>=2.5 in /usr/local/lib/python3.10/dist-packages (from requests->transformers) (3.4)\n",
            "Requirement already satisfied: urllib3<3,>=1.21.1 in /usr/local/lib/python3.10/dist-packages (from requests->transformers) (2.0.4)\n",
            "Requirement already satisfied: certifi>=2017.4.17 in /usr/local/lib/python3.10/dist-packages (from requests->transformers) (2023.7.22)\n",
            "Installing collected packages: tokenizers, safetensors, huggingface-hub, transformers\n",
            "Successfully installed huggingface-hub-0.17.3 safetensors-0.3.3 tokenizers-0.13.3 transformers-4.33.3\n",
            "Collecting sentencepiece\n",
            "  Downloading sentencepiece-0.1.99-cp310-cp310-manylinux_2_17_x86_64.manylinux2014_x86_64.whl (1.3 MB)\n",
            "\u001b[2K     \u001b[90m━━━━━━━━━━━━━━━━━━━━━━━━━━━━━━━━━━━━━━━━\u001b[0m \u001b[32m1.3/1.3 MB\u001b[0m \u001b[31m10.6 MB/s\u001b[0m eta \u001b[36m0:00:00\u001b[0m\n",
            "\u001b[?25hInstalling collected packages: sentencepiece\n",
            "Successfully installed sentencepiece-0.1.99\n",
            "Requirement already satisfied: torch in /usr/local/lib/python3.10/dist-packages (2.0.1+cu118)\n",
            "Requirement already satisfied: filelock in /usr/local/lib/python3.10/dist-packages (from torch) (3.12.2)\n",
            "Requirement already satisfied: typing-extensions in /usr/local/lib/python3.10/dist-packages (from torch) (4.5.0)\n",
            "Requirement already satisfied: sympy in /usr/local/lib/python3.10/dist-packages (from torch) (1.12)\n",
            "Requirement already satisfied: networkx in /usr/local/lib/python3.10/dist-packages (from torch) (3.1)\n",
            "Requirement already satisfied: jinja2 in /usr/local/lib/python3.10/dist-packages (from torch) (3.1.2)\n",
            "Requirement already satisfied: triton==2.0.0 in /usr/local/lib/python3.10/dist-packages (from torch) (2.0.0)\n",
            "Requirement already satisfied: cmake in /usr/local/lib/python3.10/dist-packages (from triton==2.0.0->torch) (3.27.4.1)\n",
            "Requirement already satisfied: lit in /usr/local/lib/python3.10/dist-packages (from triton==2.0.0->torch) (16.0.6)\n",
            "Requirement already satisfied: MarkupSafe>=2.0 in /usr/local/lib/python3.10/dist-packages (from jinja2->torch) (2.1.3)\n",
            "Requirement already satisfied: mpmath>=0.19 in /usr/local/lib/python3.10/dist-packages (from sympy->torch) (1.3.0)\n"
          ]
        }
      ],
      "source": [
        "!pip install transformers\n",
        "import transformers\n",
        "!pip install sentencepiece\n",
        "import sentencepiece\n",
        "!pip install torch"
      ]
    },
    {
      "cell_type": "code",
      "execution_count": 2,
      "metadata": {
        "id": "Q3VqJOjsibfJ"
      },
      "outputs": [],
      "source": [
        "from transformers import RobertaTokenizer\n",
        "from transformers import RobertaForSequenceClassification\n",
        "from transformers import TextClassificationPipeline\n",
        "from transformers import XLMRobertaModel, XLMRobertaTokenizerFast\n",
        "from transformers import TrainingArguments, Trainer\n",
        "from sklearn.metrics import accuracy_score, recall_score, precision_score, f1_score\n",
        "from sklearn.metrics import classification_report\n",
        "import tensorflow as tf\n",
        "from tensorflow.keras.optimizers import Adam\n",
        "import pandas as pd\n",
        "import json\n",
        "import gc\n",
        "import numpy as np\n",
        "from sklearn.model_selection import train_test_split\n",
        "import torch\n",
        "import re\n",
        "import seaborn as sns\n",
        "import matplotlib.pyplot as plt\n",
        "from plotly.offline import iplot\n",
        "from transformers import TFDistilBertForSequenceClassification, TFTrainer, TFTrainingArguments\n",
        "from tqdm import tqdm"
      ]
    },
    {
      "cell_type": "markdown",
      "metadata": {
        "id": "VGcwshcMxRjG"
      },
      "source": [
        " Read Training Dataset and give the distribution of classes.\n"
      ]
    },
    {
      "cell_type": "code",
      "execution_count": 3,
      "metadata": {
        "colab": {
          "base_uri": "https://localhost:8080/"
        },
        "id": "0lcn_8BSibsF",
        "outputId": "25f1a3a6-d57e-4cdb-a66f-669cc78cb627"
      },
      "outputs": [
        {
          "output_type": "stream",
          "name": "stdout",
          "text": [
            "             Labels                                            Article\n",
            "0             Sport  21-Jähriger fällt wohl bis Saisonende aus. Wie...\n",
            "1            Kultur  Erfundene Bilder zu Filmen, die als verloren g...\n",
            "2               Web  Der frischgekürte CEO Sundar Pichai setzt auf ...\n",
            "3        Wirtschaft  Putin: \"Einigung, dass wir Menge auf Niveau vo...\n",
            "4            Inland  Estland sieht den künftigen österreichischen P...\n",
            "...             ...                                                ...\n",
            "9240         Inland  Bernd Saurer war Bridge-Juniorenweltmeister un...\n",
            "9241  International  Sandhere soll in vergangener Woche bei Luftang...\n",
            "9242     Wirtschaft  Derzeit Konzeptgruppe in Berlin – Kein Komment...\n",
            "9243         Inland  Landeshauptmann will den vierten Regierungssit...\n",
            "9244       Panorama  Er ist einer von Millionen syrischen Flüchtlin...\n",
            "\n",
            "[9245 rows x 2 columns]\n",
            "        Labels                                            Article\n",
            "9000  Panorama  'Scharfe Kritik an Tschechien, Polen und balti...\n",
            "             Labels                                            Article\n",
            "0             Sport  21-Jähriger fällt wohl bis Saisonende aus. Wie...\n",
            "1            Kultur  Erfundene Bilder zu Filmen, die als verloren g...\n",
            "2               Web  Der frischgekürte CEO Sundar Pichai setzt auf ...\n",
            "3        Wirtschaft  Putin: \"Einigung, dass wir Menge auf Niveau vo...\n",
            "4            Inland  Estland sieht den künftigen österreichischen P...\n",
            "...             ...                                                ...\n",
            "9240         Inland  Bernd Saurer war Bridge-Juniorenweltmeister un...\n",
            "9241  International  Sandhere soll in vergangener Woche bei Luftang...\n",
            "9242     Wirtschaft  Derzeit Konzeptgruppe in Berlin – Kein Komment...\n",
            "9243         Inland  Landeshauptmann will den vierten Regierungssit...\n",
            "9244       Panorama  Er ist einer von Millionen syrischen Flüchtlin...\n",
            "\n",
            "[9244 rows x 2 columns]\n"
          ]
        }
      ],
      "source": [
        "df1 = pd.read_csv('/content/German Training dataset.csv')\n",
        "df1 = df1.drop('Unnamed: 2', axis=1) # dropped extra unnamed column\n",
        "df1 = df1.dropna() # dropped blank rows if any\n",
        "print(df1)\n",
        "\n",
        "duplicates = df1[df1.duplicated()]\n",
        "print(duplicates)\n",
        "\n",
        "df1 = df1.drop_duplicates()\n",
        "print(df1)"
      ]
    },
    {
      "cell_type": "code",
      "execution_count": 4,
      "metadata": {
        "colab": {
          "base_uri": "https://localhost:8080/",
          "height": 467
        },
        "id": "9PthlixlxabZ",
        "outputId": "84d5bdac-7bba-4689-e151-d415704bdf1b"
      },
      "outputs": [
        {
          "output_type": "execute_result",
          "data": {
            "text/plain": [
              "<Axes: xlabel='Labels', ylabel='count'>"
            ]
          },
          "metadata": {},
          "execution_count": 4
        },
        {
          "output_type": "display_data",
          "data": {
            "text/plain": [
              "<Figure size 640x480 with 1 Axes>"
            ],
            "image/png": "[encoded data removed]"
          },
          "metadata": {}
        }
      ],
      "source": [
        "import matplotlib.pyplot as plt\n",
        "import seaborn as sns\n",
        "sns.countplot(x='Labels', data=df1)"
      ]
    },
    {
      "cell_type": "markdown",
      "metadata": {
        "id": "BBGXbhfOxiRh"
      },
      "source": [
        "Read Testing Dataset and give the distribution of classes."
      ]
    },
    {
      "cell_type": "code",
      "execution_count": 5,
      "metadata": {
        "colab": {
          "base_uri": "https://localhost:8080/"
        },
        "id": "98L-Azuw4cQo",
        "outputId": "35bc3efe-5560-40e9-ebe1-ce574fca8f49"
      },
      "outputs": [
        {
          "output_type": "stream",
          "name": "stdout",
          "text": [
            "Empty DataFrame\n",
            "Columns: [Labels, Article]\n",
            "Index: []\n",
            "             Labels                                            Article\n",
            "0        Wirtschaft  'Die Gewerkschaft GPA-djp lanciert den \"All-in...\n",
            "1             Sport  Franzosen verteidigen 2:1-Führung – Kritische ...\n",
            "2               Web  'Neues Video von Designern macht im Netz die R...\n",
            "3             Sport  23-jähriger Brasilianer muss vier Spiele pausi...\n",
            "4     International  Aufständische verwendeten Chemikalie bei Gefec...\n",
            "...             ...                                                ...\n",
            "1023            Web  Programm \"Ebay Plus\" soll Ende September start...\n",
            "1024         Inland  Fehlerhafte Bilanz 2013, Partei will berufen –...\n",
            "1025          Sport  Als erster Olympia-Champion auch Hawaii-Sieger...\n",
            "1026          Sport  Der Außenseiter aus Denver gewinnt die 50. Sup...\n",
            "1027            Web  Wohl keine Einschränkungen bei Google-Services...\n",
            "\n",
            "[1027 rows x 2 columns]\n"
          ]
        }
      ],
      "source": [
        "df2 = pd.read_csv('/content/German Testing dataset.csv')\n",
        "#df1 = df1.drop('Unnamed: 2', axis=1) # dropped extra unnamed column\n",
        "df2 = df2.dropna() # dropped blank rows if any\n",
        "\n",
        "duplicates = df2[df2.duplicated()]\n",
        "print(duplicates)\n",
        "\n",
        "df2 = df2.drop_duplicates()\n",
        "print(df2)"
      ]
    },
    {
      "cell_type": "code",
      "execution_count": 6,
      "metadata": {
        "colab": {
          "base_uri": "https://localhost:8080/",
          "height": 467
        },
        "id": "evTD5UL2yV1G",
        "outputId": "572f14ca-0fc2-41c8-a860-5686815bbb1b"
      },
      "outputs": [
        {
          "output_type": "execute_result",
          "data": {
            "text/plain": [
              "<Axes: xlabel='Labels', ylabel='count'>"
            ]
          },
          "metadata": {},
          "execution_count": 6
        },
        {
          "output_type": "display_data",
          "data": {
            "text/plain": [
              "<Figure size 640x480 with 1 Axes>"
            ],
            "image/png": "[encoded data removed]"
          },
          "metadata": {}
        }
      ],
      "source": [
        "import matplotlib.pyplot as plt\n",
        "import seaborn as sns\n",
        "sns.countplot(x='Labels', data=df2)"
      ]
    },
    {
      "cell_type": "markdown",
      "metadata": {
        "id": "sRgTlHrrxutJ"
      },
      "source": [
        "Training and Testing Comparison\n"
      ]
    },
    {
      "cell_type": "code",
      "execution_count": 7,
      "metadata": {
        "colab": {
          "base_uri": "https://localhost:8080/",
          "height": 361
        },
        "id": "JEyWKYc1yVyY",
        "outputId": "fa97c243-a48e-4275-e33a-fe5bc68d308e"
      },
      "outputs": [
        {
          "output_type": "display_data",
          "data": {
            "text/plain": [
              "<Figure size 1000x500 with 1 Axes>"
            ],
            "image/png": "[encoded data removed]"
          },
          "metadata": {}
        }
      ],
      "source": [
        "import matplotlib.pyplot as plt\n",
        "import seaborn as sns\n",
        "\n",
        "# Plotting training and testing data on the same bar plot\n",
        "plt.figure(figsize=(10,5))\n",
        "sns.countplot(data=df1, x='Labels', color='blue', label='Training Data')\n",
        "sns.countplot(data=df2, x='Labels', color='orange', label='Testing Data')\n",
        "plt.title('Comparison of Category Distributions between Training and Testing Data')\n",
        "plt.xlabel('Labels')\n",
        "plt.ylabel('Count')\n",
        "plt.legend()\n",
        "plt.show()"
      ]
    },
    {
      "cell_type": "markdown",
      "metadata": {
        "id": "eS7MhO-vx12J"
      },
      "source": [
        "**Main Dataset** - Concatenation of Training & Testing files\n"
      ]
    },
    {
      "cell_type": "code",
      "execution_count": 8,
      "metadata": {
        "colab": {
          "base_uri": "https://localhost:8080/"
        },
        "id": "Uj6uRXWR2Fvd",
        "outputId": "0ee5fda8-47f9-468f-ac8c-6e630d34afe8"
      },
      "outputs": [
        {
          "output_type": "stream",
          "name": "stdout",
          "text": [
            "      Labels                                            Article\n",
            "9971  Inland  Gemeindeergebnisse, Mandate und mögliche Koali...\n",
            "           Labels                                            Article\n",
            "0           Sport  21-Jähriger fällt wohl bis Saisonende aus. Wie...\n",
            "1          Kultur  Erfundene Bilder zu Filmen, die als verloren g...\n",
            "2             Web  Der frischgekürte CEO Sundar Pichai setzt auf ...\n",
            "3      Wirtschaft  Putin: \"Einigung, dass wir Menge auf Niveau vo...\n",
            "4          Inland  Estland sieht den künftigen österreichischen P...\n",
            "...           ...                                                ...\n",
            "10266         Web  Programm \"Ebay Plus\" soll Ende September start...\n",
            "10267      Inland  Fehlerhafte Bilanz 2013, Partei will berufen –...\n",
            "10268       Sport  Als erster Olympia-Champion auch Hawaii-Sieger...\n",
            "10269       Sport  Der Außenseiter aus Denver gewinnt die 50. Sup...\n",
            "10270         Web  Wohl keine Einschränkungen bei Google-Services...\n",
            "\n",
            "[10270 rows x 2 columns]\n"
          ]
        }
      ],
      "source": [
        "import pandas as pd\n",
        "\n",
        "# Assuming train_df and test_df are your training and testing DataFrames\n",
        "# Concatenate the two DataFrames\n",
        "df = pd.concat([df1, df2], ignore_index=True)\n",
        "\n",
        "duplicates = df[df.duplicated()]\n",
        "print(duplicates)\n",
        "\n",
        "df = df.drop_duplicates()\n",
        "print(df)"
      ]
    },
    {
      "cell_type": "code",
      "execution_count": 9,
      "metadata": {
        "colab": {
          "base_uri": "https://localhost:8080/",
          "height": 467
        },
        "id": "UzKw1kM_yFuS",
        "outputId": "d4a8c9f1-1d64-4a2e-8036-b6a3389ea417"
      },
      "outputs": [
        {
          "output_type": "execute_result",
          "data": {
            "text/plain": [
              "<Axes: xlabel='Labels', ylabel='count'>"
            ]
          },
          "metadata": {},
          "execution_count": 9
        },
        {
          "output_type": "display_data",
          "data": {
            "text/plain": [
              "<Figure size 640x480 with 1 Axes>"
            ],
            "image/png": "[encoded data removed]"
          },
          "metadata": {}
        }
      ],
      "source": [
        "import matplotlib.pyplot as plt\n",
        "import seaborn as sns\n",
        "sns.countplot(x='Labels', data=df)"
      ]
    },
    {
      "cell_type": "code",
      "execution_count": 10,
      "metadata": {
        "colab": {
          "base_uri": "https://localhost:8080/",
          "height": 448
        },
        "id": "xpzeFGR6wwrh",
        "outputId": "974d7864-3cd6-41e8-c240-ac9948a67623"
      },
      "outputs": [
        {
          "output_type": "execute_result",
          "data": {
            "text/plain": [
              "<Axes: >"
            ]
          },
          "metadata": {},
          "execution_count": 10
        },
        {
          "output_type": "display_data",
          "data": {
            "text/plain": [
              "<Figure size 640x480 with 1 Axes>"
            ],
            "image/png": "[encoded data removed]"
          },
          "metadata": {}
        }
      ],
      "source": [
        "df['Article'].str.len().hist()\n",
        "#The histogram shows that news headlines range from 1 to 15kk characters and generally,\n",
        "#it is between 1 to 6k characters.\n"
      ]
    },
    {
      "cell_type": "markdown",
      "metadata": {
        "id": "YLRvg-wdzsPu"
      },
      "source": [
        "Calculate Avg. Length of articles"
      ]
    },
    {
      "cell_type": "code",
      "execution_count": 11,
      "metadata": {
        "colab": {
          "base_uri": "https://localhost:8080/"
        },
        "id": "W-wV5kT3zimM",
        "outputId": "6061963f-cf74-4ffa-cb8f-e412f93c50bf"
      },
      "outputs": [
        {
          "output_type": "stream",
          "name": "stdout",
          "text": [
            "[63, 577, 277, 97, 619, 222, 64, 237, 124, 418, 273, 275, 193, 171, 644, 226, 685, 205, 536, 98, 224, 318, 252, 827, 260, 581, 465, 438, 263, 217, 462, 315, 296, 691, 230, 517, 144, 184, 498, 574, 118, 410, 2028, 295, 342, 292, 323, 1401, 679, 166, 345, 560, 1203, 413, 519, 479, 223, 106, 615, 165, 551, 232, 327, 99, 675, 266, 643, 177, 910, 102, 318, 271, 369, 2637, 730, 268, 659, 150, 197, 214, 115, 832, 389, 248, 448, 90, 525, 304, 299, 211, 478, 482, 251, 444, 342, 339, 380, 148, 216, 57, 93, 286, 371, 243, 587, 628, 76, 112, 382, 248, 632, 130, 120, 254, 178, 451, 571, 524, 864, 169, 468, 262, 331, 867, 127, 592, 325, 318, 433, 625, 281, 290, 262, 348, 626, 562, 154, 374, 734, 215, 934, 162, 287, 318, 290, 364, 452, 388, 293, 349, 59, 843, 393, 499, 470, 219, 192, 120, 265, 244, 487, 365, 717, 333, 600, 130, 378, 233, 523, 301, 390, 349, 466, 271, 514, 429, 389, 733, 141, 88, 201, 222, 79, 497, 372, 165, 223, 309, 39, 114, 119, 1194, 240, 399, 26, 205, 177, 201, 151, 273, 126, 255, 709, 1387, 170, 142, 200, 201, 125, 573, 481, 462, 141, 147, 199, 465, 470, 83, 147, 15, 298, 299, 142, 375, 116, 144, 156, 121, 377, 328, 248, 527, 885, 247, 197, 441, 163, 304, 641, 615, 94, 315, 179, 136, 193, 128, 718, 961, 472, 31, 596, 98, 252, 27, 300, 335, 32, 107, 431, 131, 186, 392, 235, 488, 55, 410, 579, 278, 545, 217, 172, 424, 669, 561, 317, 201, 360, 55, 323, 289, 107, 243, 210, 342, 426, 314, 146, 116, 234, 181, 455, 146, 360, 374, 408, 593, 530, 377, 339, 161, 560, 214, 336, 545, 246, 982, 377, 125, 38, 303, 358, 240, 923, 242, 215, 167, 135, 344, 162, 214, 196, 310, 604, 200, 288, 236, 639, 146, 266, 95, 663, 209, 89, 254, 212, 213, 526, 220, 336, 617, 583, 1454, 500, 389, 260, 20, 488, 270, 216, 187, 192, 284, 1881, 189, 315, 124, 110, 488, 416, 268, 509, 499, 173, 141, 476, 458, 168, 180, 351, 117, 361, 333, 475, 410, 212, 149, 747, 252, 144, 232, 329, 334, 170, 252, 129, 106, 127, 108, 221, 786, 542, 571, 531, 304, 619, 98, 363, 324, 170, 333, 277, 287, 173, 146, 136, 226, 179, 234, 171, 288, 584, 187, 531, 209, 164, 483, 242, 127, 865, 303, 419, 30, 337, 119, 269, 378, 143, 203, 128, 109, 167, 846, 427, 117, 560, 384, 250, 281, 303, 167, 257, 168, 207, 209, 256, 501, 221, 162, 94, 159, 595, 193, 147, 278, 171, 548, 179, 114, 152, 587, 170, 276, 674, 1829, 162, 194, 221, 486, 426, 369, 195, 732, 561, 359, 185, 363, 240, 165, 1087, 103, 99, 549, 146, 486, 342, 154, 473, 543, 131, 140, 534, 355, 175, 247, 556, 479, 369, 405, 338, 255, 368, 217, 527, 310, 104, 418, 681, 150, 130, 82, 535, 307, 176, 201, 160, 278, 421, 2164, 220, 377, 313, 319, 146, 379, 344, 414, 156, 155, 350, 218, 1104, 329, 468, 367, 529, 397, 362, 21, 197, 368, 1309, 231, 471, 497, 897, 296, 307, 417, 420, 299, 626, 98, 1495, 362, 269, 163, 757, 142, 720, 208, 835, 816, 416, 371, 166, 589, 387, 295, 191, 519, 238, 464, 947, 26, 153, 212, 878, 382, 598, 268, 563, 404, 155, 275, 562, 93, 84, 310, 189, 224, 401, 629, 280, 359, 498, 435, 603, 114, 731, 179, 237, 169, 160, 135, 184, 223, 199, 458, 1429, 184, 32, 254, 208, 213, 265, 112, 377, 336, 151, 271, 827, 695, 121, 434, 227, 340, 774, 174, 245, 650, 107, 721, 135, 115, 227, 377, 204, 262, 305, 515, 180, 35, 677, 253, 138, 913, 150, 378, 155, 166, 121, 327, 350, 541, 165, 301, 737, 204, 169, 454, 167, 618, 263, 515, 160, 380, 575, 888, 266, 137, 330, 287, 284, 208, 291, 119, 477, 674, 123, 574, 186, 108, 124, 279, 127, 607, 399, 335, 202, 242, 291, 172, 238, 164, 448, 660, 561, 493, 468, 162, 642, 157, 343, 523, 130, 195, 482, 867, 427, 2552, 206, 842, 153, 676, 357, 263, 243, 324, 456, 26, 18, 463, 148, 402, 191, 80, 812, 87, 152, 170, 122, 717, 214, 252, 822, 242, 312, 270, 515, 220, 550, 156, 142, 544, 580, 118, 158, 332, 186, 436, 249, 629, 525, 813, 355, 94, 275, 270, 556, 467, 429, 523, 703, 274, 21, 223, 218, 177, 510, 313, 195, 288, 455, 342, 2831, 240, 230, 206, 463, 1265, 187, 449, 372, 254, 240, 532, 281, 364, 275, 390, 68, 186, 236, 888, 429, 236, 478, 973, 174, 296, 236, 177, 499, 507, 530, 192, 514, 577, 380, 675, 276, 320, 116, 124, 380, 221, 178, 145, 164, 737, 628, 298, 434, 664, 135, 287, 254, 444, 88, 223, 197, 110, 201, 673, 215, 157, 20, 244, 94, 333, 560, 450, 160, 1472, 166, 194, 572, 1528, 508, 268, 222, 390, 96, 467, 389, 236, 279, 389, 341, 24, 309, 208, 200, 628, 168, 136, 293, 318, 574, 477, 283, 363, 223, 494, 362, 163, 191, 417, 295, 451, 435, 1365, 293, 190, 201, 520, 819, 218, 1087, 644, 256, 166, 250, 112, 496, 241, 113, 230, 600, 170, 628, 133, 250, 87, 501, 29, 382, 228, 200, 214, 195, 378, 205, 662, 1001, 204, 405, 619, 641, 192, 522, 402, 23, 1469, 436, 873, 266, 59, 163, 170, 171, 200, 169, 356, 273, 198, 506, 204, 305, 154, 1324, 225, 153, 534, 219, 442, 117, 884, 641, 834, 185, 176, 428, 107, 104, 767, 96, 323, 357, 1303, 291, 1552, 167, 136, 262, 367, 668, 275, 237, 285, 1680, 108, 144, 445, 468, 141, 644, 8, 142, 502, 345, 291, 191, 99, 478, 594, 499, 123, 307, 23, 548, 230, 434, 165, 245, 224, 287, 184, 135, 660, 217, 102, 295, 1958, 453, 1091, 335, 575, 271, 291, 275, 328, 507, 183, 210, 190, 360, 342, 160, 133, 144, 145, 117, 450, 83, 198, 657, 398, 458, 166, 536, 278, 682, 60, 812, 286, 219, 359, 206, 475, 871, 504, 138, 557, 893, 1180, 464, 534, 436, 480, 205, 761, 730, 126, 365, 485, 218, 518, 143, 243, 24, 211, 483, 592, 27, 598, 184, 437, 516, 552, 179, 143, 278, 240, 321, 93, 399, 147, 457, 405, 684, 178, 228, 597, 95, 90, 100, 231, 398, 122, 160, 153, 246, 545, 392, 29, 275, 517, 338, 622, 498, 216, 612, 585, 795, 60, 639, 188, 511, 405, 556, 235, 358, 778, 119, 323, 306, 105, 297, 588, 837, 478, 259, 482, 396, 399, 328, 736, 308, 321, 627, 168, 90, 474, 193, 338, 262, 423, 469, 477, 293, 137, 520, 400, 770, 1024, 550, 440, 261, 53, 256, 406, 357, 584, 425, 160, 263, 103, 315, 187, 396, 805, 533, 1499, 612, 113, 388, 728, 425, 122, 553, 406, 401, 221, 136, 595, 309, 557, 359, 555, 149, 331, 277, 367, 305, 1183, 443, 15, 219, 516, 1372, 294, 876, 219, 126, 367, 928, 153, 208, 26, 369, 438, 466, 144, 513, 234, 192, 320, 328, 70, 224, 96, 129, 87, 310, 215, 215, 550, 141, 180, 1247, 493, 173, 540, 159, 234, 146, 181, 133, 226, 383, 80, 225, 478, 458, 666, 279, 135, 139, 95, 647, 339, 136, 442, 529, 624, 381, 389, 626, 145, 528, 176, 166, 347, 405, 189, 1245, 211, 155, 223, 278, 498, 368, 552, 104, 46, 447, 813, 902, 149, 316, 1292, 204, 285, 192, 280, 760, 366, 173, 165, 181, 108, 66, 1114, 65, 234, 2026, 561, 295, 186, 125, 449, 115, 178, 469, 320, 278, 163, 129, 348, 66, 230, 261, 557, 278, 170, 165, 445, 236, 158, 134, 19, 163, 195, 220, 1797, 626, 649, 407, 118, 390, 480, 659, 456, 330, 830, 164, 302, 271, 229, 206, 101, 135, 347, 140, 24, 134, 318, 600, 29, 843, 100, 65, 651, 352, 171, 489, 452, 687, 170, 206, 349, 194, 264, 124, 530, 139, 352, 298, 341, 94, 229, 167, 871, 248, 374, 390, 146, 422, 485, 189, 672, 244, 182, 464, 463, 310, 265, 106, 134, 204, 940, 391, 28, 299, 517, 630, 321, 200, 201, 619, 341, 108, 76, 142, 192, 210, 476, 440, 325, 541, 447, 762, 2354, 477, 650, 185, 186, 170, 322, 371, 280, 543, 227, 218, 563, 681, 360, 231, 548, 358, 323, 170, 466, 546, 71, 176, 321, 501, 456, 496, 398, 200, 668, 243, 247, 28, 202, 218, 177, 460, 1081, 242, 1116, 461, 293, 1107, 222, 264, 240, 140, 383, 416, 1232, 271, 918, 295, 379, 236, 305, 306, 468, 485, 105, 497, 496, 165, 294, 306, 827, 246, 641, 552, 104, 224, 268, 339, 173, 332, 631, 318, 163, 100, 573, 388, 313, 468, 405, 235, 185, 134, 1379, 341, 195, 376, 311, 374, 267, 139, 91, 411, 556, 504, 811, 209, 168, 595, 708, 292, 159, 228, 293, 266, 538, 12, 308, 125, 297, 347, 240, 526, 387, 576, 34, 413, 538, 478, 310, 72, 287, 515, 147, 573, 472, 143, 131, 184, 147, 159, 122, 93, 283, 804, 415, 300, 77, 1914, 399, 324, 325, 245, 584, 235, 1071, 589, 590, 547, 26, 299, 124, 457, 505, 166, 450, 124, 743, 235, 1301, 354, 245, 850, 231, 566, 466, 201, 568, 889, 185, 205, 448, 286, 34, 159, 265, 137, 188, 295, 967, 507, 431, 220, 215, 252, 899, 303, 216, 669, 194, 185, 181, 545, 178, 490, 368, 378, 151, 198, 291, 452, 328, 373, 303, 233, 296, 210, 418, 338, 124, 208, 104, 158, 627, 318, 1217, 245, 22, 144, 521, 815, 642, 622, 545, 489, 381, 297, 253, 417, 370, 924, 135, 259, 313, 433, 427, 308, 510, 525, 333, 479, 100, 380, 142, 176, 333, 150, 968, 105, 326, 387, 342, 159, 231, 197, 206, 272, 283, 651, 449, 224, 747, 167, 395, 136, 238, 340, 194, 40, 58, 172, 330, 616, 433, 178, 866, 219, 219, 233, 390, 349, 822, 935, 106, 786, 1236, 242, 311, 369, 222, 123, 231, 436, 269, 176, 256, 215, 652, 56, 172, 409, 360, 143, 178, 184, 525, 480, 161, 267, 332, 298, 411, 231, 443, 304, 159, 600, 248, 264, 184, 594, 136, 129, 105, 507, 649, 328, 148, 215, 207, 149, 700, 216, 148, 259, 217, 197, 434, 1015, 256, 464, 1483, 205, 544, 209, 252, 257, 169, 253, 333, 135, 162, 318, 202, 150, 770, 745, 135, 136, 520, 470, 138, 121, 278, 159, 190, 156, 316, 326, 489, 649, 645, 214, 239, 165, 213, 149, 419, 284, 533, 780, 175, 410, 129, 348, 284, 625, 433, 674, 531, 354, 430, 444, 150, 800, 100, 414, 254, 427, 519, 560, 452, 429, 349, 870, 468, 427, 184, 115, 302, 667, 208, 25, 91, 164, 361, 256, 435, 269, 554, 210, 428, 130, 184, 118, 55, 150, 115, 214, 273, 293, 310, 66, 450, 598, 570, 1844, 93, 128, 439, 173, 231, 199, 985, 330, 333, 640, 607, 288, 181, 293, 52, 452, 245, 525, 126, 241, 218, 36, 204, 390, 168, 338, 27, 719, 341, 457, 1478, 285, 135, 323, 176, 1001, 642, 61, 330, 213, 119, 674, 633, 240, 208, 281, 178, 127, 103, 427, 803, 477, 263, 625, 171, 598, 443, 760, 700, 401, 171, 124, 196, 184, 538, 491, 222, 151, 476, 216, 326, 192, 327, 555, 437, 239, 454, 459, 227, 318, 656, 542, 117, 137, 433, 283, 182, 295, 487, 379, 198, 613, 257, 497, 155, 441, 400, 118, 191, 330, 234, 673, 417, 303, 215, 663, 745, 573, 480, 718, 236, 523, 145, 134, 386, 256, 955, 370, 644, 656, 472, 230, 706, 783, 305, 549, 656, 267, 286, 411, 281, 189, 234, 535, 489, 237, 230, 433, 139, 418, 458, 684, 155, 629, 302, 66, 506, 153, 315, 396, 152, 324, 558, 736, 509, 23, 277, 161, 522, 100, 318, 112, 868, 145, 77, 364, 140, 410, 479, 84, 268, 518, 493, 297, 179, 203, 250, 627, 294, 558, 202, 31, 307, 120, 1061, 146, 540, 154, 407, 219, 108, 3, 336, 316, 1240, 410, 1094, 199, 447, 1155, 287, 467, 170, 511, 439, 404, 97, 483, 270, 375, 449, 124, 562, 133, 333, 252, 181, 233, 508, 154, 181, 162, 90, 101, 474, 167, 321, 161, 420, 434, 559, 284, 207, 273, 578, 343, 362, 541, 255, 273, 413, 579, 112, 313, 184, 215, 606, 380, 616, 235, 817, 391, 149, 63, 388, 509, 19, 542, 1140, 169, 227, 101, 412, 350, 204, 560, 324, 489, 492, 108, 60, 60, 390, 610, 759, 182, 383, 20, 250, 231, 176, 653, 398, 707, 255, 369, 286, 342, 721, 261, 235, 241, 274, 360, 704, 129, 30, 186, 354, 318, 263, 213, 196, 659, 144, 545, 289, 9, 524, 926, 353, 153, 649, 495, 253, 576, 160, 125, 258, 177, 512, 174, 376, 123, 342, 410, 179, 1519, 428, 605, 269, 178, 143, 91, 111, 93, 351, 174, 235, 325, 822, 175, 176, 92, 180, 729, 152, 1185, 626, 253, 123, 132, 201, 268, 523, 382, 320, 152, 289, 325, 495, 380, 354, 792, 518, 438, 372, 366, 416, 613, 830, 217, 174, 276, 123, 179, 334, 115, 387, 173, 154, 278, 160, 121, 243, 198, 336, 234, 171, 143, 469, 630, 527, 104, 160, 194, 807, 144, 217, 126, 160, 203, 31, 484, 227, 109, 112, 411, 319, 107, 300, 1026, 319, 370, 200, 597, 335, 396, 157, 215, 228, 116, 332, 155, 402, 789, 504, 2753, 1470, 546, 756, 201, 184, 112, 499, 205, 230, 211, 183, 652, 182, 701, 365, 198, 252, 535, 292, 182, 258, 494, 268, 113, 81, 330, 127, 144, 150, 135, 207, 1465, 478, 343, 136, 417, 253, 90, 331, 450, 401, 295, 334, 686, 96, 122, 338, 359, 227, 158, 566, 19, 280, 245, 581, 1003, 82, 358, 314, 543, 225, 649, 191, 607, 514, 294, 595, 216, 805, 27, 300, 802, 385, 315, 186, 584, 488, 31, 400, 389, 155, 603, 120, 245, 109, 210, 101, 314, 476, 540, 362, 311, 374, 415, 270, 350, 1490, 490, 461, 249, 105, 161, 209, 670, 100, 427, 455, 355, 420, 552, 149, 125, 780, 312, 144, 189, 399, 482, 252, 68, 692, 322, 206, 99, 778, 28, 606, 128, 343, 150, 394, 219, 153, 210, 368, 173, 466, 235, 160, 350, 693, 301, 497, 439, 560, 239, 421, 476, 289, 276, 777, 473, 94, 161, 403, 167, 153, 17, 149, 212, 397, 735, 232, 75, 430, 156, 429, 237, 209, 312, 342, 273, 214, 117, 452, 26, 218, 617, 433, 161, 396, 789, 25, 467, 502, 175, 218, 582, 178, 323, 126, 510, 564, 158, 165, 658, 417, 187, 350, 709, 609, 401, 806, 175, 624, 289, 300, 111, 792, 635, 388, 130, 200, 673, 22, 141, 345, 143, 149, 388, 520, 582, 332, 72, 164, 368, 385, 502, 155, 192, 222, 161, 207, 203, 423, 418, 513, 206, 226, 548, 754, 262, 300, 192, 451, 255, 426, 853, 124, 308, 346, 606, 835, 157, 589, 254, 138, 250, 391, 137, 579, 210, 217, 199, 429, 140, 447, 547, 306, 312, 409, 324, 321, 334, 183, 256, 519, 386, 483, 374, 377, 275, 359, 196, 208, 398, 649, 390, 255, 153, 660, 172, 570, 115, 241, 246, 704, 313, 331, 352, 317, 28, 236, 310, 741, 990, 289, 587, 135, 143, 850, 1511, 207, 242, 404, 23, 429, 398, 911, 420, 330, 130, 537, 480, 1066, 781, 232, 278, 254, 597, 243, 148, 190, 455, 211, 411, 327, 268, 703, 497, 543, 394, 142, 968, 178, 229, 362, 603, 23, 656, 266, 156, 598, 377, 147, 462, 500, 358, 211, 558, 310, 474, 282, 215, 689, 406, 1158, 259, 423, 451, 1108, 256, 564, 279, 932, 503, 271, 332, 784, 150, 640, 230, 178, 181, 1257, 683, 2211, 478, 379, 531, 92, 470, 1381, 418, 203, 818, 491, 1894, 393, 336, 207, 632, 145, 479, 913, 142, 428, 636, 167, 425, 229, 323, 254, 513, 373, 203, 452, 593, 214, 602, 455, 764, 222, 228, 357, 467, 75, 176, 491, 423, 245, 148, 247, 88, 159, 333, 609, 294, 336, 601, 72, 425, 326, 135, 443, 581, 194, 903, 240, 1389, 377, 300, 245, 123, 306, 318, 431, 315, 327, 709, 550, 437, 132, 249, 218, 172, 90, 272, 297, 353, 236, 237, 179, 1077, 460, 326, 287, 278, 624, 210, 659, 218, 509, 107, 417, 488, 354, 604, 794, 175, 466, 147, 437, 228, 626, 771, 771, 526, 662, 382, 22, 412, 167, 481, 277, 212, 260, 218, 225, 153, 385, 349, 7, 935, 354, 29, 414, 324, 347, 98, 392, 112, 1796, 221, 110, 237, 288, 411, 247, 168, 223, 106, 316, 590, 141, 369, 356, 403, 616, 640, 160, 74, 203, 403, 361, 537, 178, 221, 259, 198, 224, 624, 291, 483, 276, 794, 589, 214, 179, 241, 422, 322, 988, 162, 613, 238, 109, 221, 224, 459, 412, 559, 35, 179, 143, 23, 239, 285, 480, 249, 175, 164, 456, 107, 372, 351, 192, 624, 284, 187, 221, 508, 160, 279, 598, 234, 164, 560, 251, 388, 34, 485, 428, 99, 298, 229, 333, 407, 266, 366, 659, 90, 176, 122, 368, 547, 106, 173, 856, 401, 480, 445, 140, 188, 568, 857, 180, 310, 404, 178, 300, 268, 599, 348, 222, 135, 3, 183, 79, 233, 321, 232, 138, 138, 26, 299, 152, 319, 292, 449, 536, 486, 125, 1762, 467, 552, 760, 181, 202, 22, 433, 628, 238, 284, 220, 751, 467, 321, 512, 79, 1992, 358, 229, 236, 517, 770, 604, 506, 412, 465, 248, 345, 131, 92, 714, 179, 321, 265, 631, 170, 477, 641, 870, 269, 92, 371, 160, 265, 317, 817, 270, 664, 385, 152, 552, 105, 1451, 171, 289, 195, 100, 202, 803, 246, 676, 551, 682, 549, 104, 192, 442, 314, 263, 584, 495, 250, 417, 110, 621, 710, 230, 390, 118, 138, 390, 257, 202, 606, 191, 579, 550, 527, 646, 755, 491, 327, 396, 417, 1434, 452, 185, 277, 352, 269, 190, 178, 352, 691, 110, 330, 772, 162, 283, 520, 179, 250, 610, 169, 467, 360, 271, 392, 609, 552, 131, 245, 592, 473, 196, 492, 175, 254, 485, 225, 419, 492, 211, 347, 194, 94, 360, 148, 297, 64, 202, 111, 394, 238, 194, 531, 149, 351, 305, 822, 493, 417, 345, 172, 172, 1449, 591, 400, 317, 267, 770, 794, 271, 206, 217, 313, 642, 609, 26, 165, 351, 138, 170, 142, 465, 338, 250, 422, 229, 170, 28, 244, 437, 464, 472, 574, 61, 266, 413, 68, 177, 519, 504, 712, 504, 218, 148, 342, 580, 140, 114, 701, 125, 457, 875, 175, 186, 275, 482, 734, 291, 431, 588, 181, 294, 908, 805, 529, 43, 98, 259, 281, 441, 190, 697, 251, 368, 124, 559, 56, 325, 172, 215, 218, 287, 390, 223, 154, 184, 1033, 145, 213, 766, 63, 264, 170, 193, 180, 787, 169, 600, 145, 147, 133, 197, 178, 255, 327, 118, 87, 542, 845, 2359, 1422, 308, 181, 123, 828, 353, 316, 608, 306, 373, 473, 181, 194, 212, 795, 465, 145, 549, 253, 239, 168, 490, 109, 662, 178, 235, 437, 110, 254, 96, 423, 178, 140, 182, 457, 244, 310, 288, 744, 493, 234, 403, 837, 180, 682, 273, 163, 193, 233, 116, 126, 542, 143, 192, 163, 372, 264, 293, 444, 153, 200, 523, 537, 443, 187, 526, 345, 372, 152, 437, 412, 299, 123, 241, 231, 424, 269, 269, 639, 94, 296, 63, 385, 135, 483, 289, 127, 87, 191, 574, 560, 1236, 538, 242, 259, 361, 128, 425, 355, 63, 179, 714, 198, 26, 510, 623, 711, 185, 581, 410, 220, 208, 195, 218, 1386, 272, 232, 446, 219, 204, 139, 150, 559, 790, 158, 354, 247, 25, 420, 778, 177, 450, 217, 217, 429, 553, 209, 669, 591, 390, 202, 237, 264, 646, 1101, 370, 2459, 468, 793, 1583, 822, 454, 687, 784, 1458, 193, 131, 63, 96, 354, 287, 449, 548, 87, 774, 160, 113, 137, 166, 140, 165, 326, 457, 551, 1021, 528, 935, 393, 545, 620, 368, 286, 294, 130, 528, 200, 10, 1017, 174, 25, 642, 444, 326, 456, 405, 286, 326, 454, 443, 333, 283, 611, 268, 573, 225, 539, 508, 173, 394, 314, 306, 274, 729, 151, 340, 580, 429, 637, 84, 476, 317, 175, 218, 287, 485, 159, 471, 292, 411, 236, 436, 214, 491, 320, 231, 459, 90, 146, 285, 171, 493, 1333, 470, 200, 945, 363, 323, 631, 140, 408, 512, 341, 524, 762, 125, 537, 204, 647, 116, 381, 553, 238, 878, 256, 574, 330, 666, 454, 126, 83, 279, 386, 534, 215, 112, 398, 653, 544, 76, 438, 197, 132, 566, 345, 470, 166, 367, 226, 328, 490, 382, 327, 96, 251, 1043, 869, 137, 574, 144, 138, 771, 263, 194, 505, 516, 629, 204, 92, 113, 213, 110, 150, 608, 431, 377, 2403, 157, 692, 89, 238, 146, 457, 110, 540, 636, 274, 110, 193, 308, 148, 77, 382, 418, 162, 195, 155, 221, 685, 876, 574, 230, 339, 481, 220, 428, 120, 737, 426, 309, 501, 281, 946, 149, 281, 516, 601, 148, 14, 119, 291, 521, 271, 195, 248, 1076, 139, 150, 524, 136, 942, 122, 361, 253, 267, 278, 354, 226, 693, 158, 378, 253, 20, 293, 597, 359, 446, 228, 159, 163, 757, 169, 166, 152, 658, 147, 234, 411, 22, 285, 107, 100, 264, 447, 419, 103, 150, 20, 536, 69, 168, 117, 645, 278, 1081, 300, 110, 251, 543, 712, 461, 542, 475, 234, 344, 315, 596, 851, 190, 751, 402, 31, 187, 560, 616, 135, 86, 128, 248, 110, 153, 735, 521, 451, 100, 469, 262, 279, 591, 367, 270, 172, 197, 295, 153, 262, 769, 334, 207, 238, 456, 179, 595, 1331, 93, 126, 176, 200, 555, 170, 298, 256, 455, 447, 403, 475, 329, 268, 417, 407, 423, 180, 462, 329, 518, 282, 172, 486, 357, 80, 33, 405, 667, 555, 473, 226, 255, 241, 155, 217, 298, 334, 429, 689, 167, 257, 390, 148, 267, 597, 168, 616, 289, 188, 398, 193, 99, 165, 247, 452, 402, 368, 405, 261, 171, 263, 664, 288, 282, 239, 332, 530, 186, 297, 103, 908, 699, 319, 402, 373, 156, 131, 334, 332, 524, 134, 447, 945, 150, 208, 416, 528, 289, 239, 307, 1737, 308, 224, 308, 218, 876, 146, 388, 102, 184, 356, 290, 543, 449, 639, 486, 435, 151, 136, 290, 120, 121, 161, 602, 353, 960, 298, 171, 498, 479, 411, 146, 739, 264, 131, 504, 275, 629, 1370, 784, 599, 354, 863, 141, 238, 178, 363, 722, 249, 240, 101, 230, 176, 612, 162, 105, 226, 795, 176, 482, 209, 235, 570, 111, 397, 117, 100, 131, 201, 114, 294, 189, 432, 621, 438, 345, 440, 178, 200, 105, 153, 762, 149, 153, 243, 161, 311, 180, 234, 180, 813, 183, 323, 160, 652, 303, 331, 152, 251, 318, 498, 142, 105, 564, 224, 495, 283, 335, 198, 767, 115, 493, 116, 78, 428, 549, 144, 363, 296, 369, 112, 130, 293, 331, 413, 368, 635, 268, 368, 268, 389, 207, 215, 498, 373, 343, 231, 297, 182, 227, 496, 240, 129, 473, 300, 221, 54, 464, 969, 340, 712, 538, 194, 79, 821, 185, 235, 602, 326, 165, 524, 346, 214, 427, 515, 316, 499, 155, 353, 244, 347, 318, 535, 209, 727, 683, 186, 508, 394, 465, 1110, 510, 373, 107, 624, 492, 692, 192, 206, 311, 494, 102, 336, 317, 19, 643, 108, 227, 429, 85, 463, 150, 210, 1741, 360, 395, 196, 278, 238, 734, 170, 223, 231, 513, 117, 235, 429, 310, 260, 14, 287, 398, 379, 302, 458, 646, 253, 630, 449, 442, 1044, 329, 318, 158, 196, 465, 752, 81, 601, 197, 330, 89, 410, 264, 151, 582, 195, 1156, 385, 112, 495, 180, 188, 405, 334, 407, 528, 304, 286, 179, 777, 372, 249, 132, 580, 595, 500, 1194, 348, 489, 335, 326, 327, 321, 316, 349, 487, 60, 299, 175, 251, 505, 251, 272, 112, 280, 427, 211, 548, 110, 196, 470, 1421, 98, 547, 203, 206, 99, 122, 152, 227, 306, 380, 707, 188, 382, 657, 715, 397, 272, 216, 167, 218, 456, 614, 321, 340, 374, 531, 230, 801, 431, 274, 184, 107, 617, 212, 638, 328, 227, 453, 628, 544, 1433, 207, 372, 261, 389, 565, 671, 152, 215, 200, 88, 91, 702, 156, 540, 661, 248, 268, 338, 292, 835, 174, 408, 787, 375, 371, 919, 220, 277, 308, 324, 108, 866, 383, 366, 112, 64, 661, 55, 329, 565, 537, 241, 528, 224, 429, 271, 136, 238, 779, 235, 90, 385, 145, 544, 544, 593, 233, 110, 322, 263, 158, 462, 702, 565, 595, 438, 357, 635, 520, 190, 195, 711, 294, 299, 274, 577, 237, 263, 193, 88, 87, 150, 218, 535, 78, 1218, 124, 156, 181, 138, 223, 248, 1280, 422, 147, 280, 143, 82, 1068, 370, 548, 488, 225, 365, 447, 506, 397, 799, 198, 493, 334, 144, 1136, 117, 699, 583, 309, 229, 392, 247, 166, 243, 140, 207, 368, 309, 248, 160, 309, 745, 352, 159, 351, 150, 166, 548, 154, 286, 123, 582, 110, 92, 370, 144, 290, 345, 212, 502, 392, 89, 531, 212, 359, 144, 558, 146, 288, 111, 892, 167, 220, 404, 132, 471, 2010, 151, 28, 322, 164, 614, 778, 484, 176, 203, 420, 230, 169, 239, 218, 282, 297, 649, 169, 325, 336, 294, 360, 221, 322, 327, 456, 393, 173, 391, 506, 567, 188, 174, 130, 109, 665, 264, 516, 89, 182, 154, 318, 181, 890, 146, 529, 567, 522, 293, 211, 438, 373, 220, 210, 148, 526, 64, 56, 519, 555, 195, 402, 309, 466, 755, 501, 365, 129, 217, 92, 760, 952, 1325, 255, 566, 1207, 125, 93, 148, 703, 104, 634, 327, 104, 117, 171, 64, 138, 246, 446, 140, 252, 580, 98, 381, 67, 186, 323, 105, 201, 669, 296, 137, 441, 95, 108, 197, 107, 363, 737, 106, 125, 398, 353, 646, 147, 706, 23, 587, 126, 206, 362, 126, 660, 529, 882, 244, 284, 639, 622, 199, 617, 405, 433, 698, 502, 278, 397, 131, 340, 122, 408, 784, 536, 118, 222, 145, 1098, 385, 253, 127, 119, 155, 212, 176, 494, 389, 169, 548, 389, 622, 607, 521, 395, 308, 260, 235, 638, 769, 28, 665, 596, 27, 919, 271, 186, 367, 815, 97, 243, 76, 190, 929, 446, 400, 8, 869, 471, 569, 602, 122, 209, 251, 380, 427, 310, 123, 135, 149, 1496, 241, 1385, 387, 143, 717, 374, 259, 284, 156, 259, 183, 414, 380, 415, 226, 642, 286, 157, 155, 179, 348, 269, 228, 215, 447, 514, 131, 646, 449, 123, 137, 191, 272, 94, 243, 332, 385, 472, 175, 826, 160, 189, 546, 72, 318, 283, 166, 150, 761, 148, 545, 231, 505, 332, 125, 885, 173, 571, 605, 308, 901, 426, 357, 82, 425, 592, 145, 248, 203, 222, 391, 803, 111, 111, 167, 215, 196, 277, 548, 927, 332, 563, 181, 245, 551, 163, 375, 811, 660, 163, 433, 221, 415, 260, 151, 333, 173, 408, 371, 592, 135, 546, 282, 207, 161, 255, 858, 312, 206, 163, 201, 383, 385, 578, 442, 804, 198, 199, 365, 409, 597, 151, 139, 635, 267, 450, 315, 271, 148, 294, 400, 534, 114, 247, 143, 451, 962, 370, 299, 578, 1211, 451, 184, 375, 271, 582, 424, 392, 1022, 409, 656, 458, 556, 186, 341, 453, 125, 77, 250, 596, 96, 230, 707, 424, 1145, 243, 456, 407, 541, 274, 216, 818, 314, 221, 715, 208, 476, 731, 170, 162, 326, 115, 101, 276, 614, 82, 907, 169, 178, 237, 277, 841, 71, 204, 362, 349, 99, 115, 317, 529, 88, 225, 148, 198, 325, 342, 445, 819, 981, 141, 351, 108, 829, 123, 175, 125, 194, 156, 531, 243, 1157, 278, 251, 169, 162, 313, 123, 358, 142, 248, 629, 358, 136, 475, 602, 346, 223, 145, 250, 476, 283, 275, 1713, 520, 488, 152, 343, 250, 190, 147, 146, 516, 496, 623, 187, 189, 901, 141, 631, 146, 503, 533, 698, 344, 385, 203, 157, 213, 169, 573, 398, 266, 680, 146, 126, 286, 107, 141, 411, 784, 375, 76, 184, 191, 247, 350, 734, 584, 223, 375, 491, 480, 690, 146, 653, 281, 155, 162, 1068, 146, 173, 105, 229, 1044, 408, 174, 803, 105, 27, 240, 27, 120, 1314, 165, 525, 154, 222, 282, 494, 587, 736, 522, 390, 368, 164, 239, 212, 949, 492, 247, 735, 378, 398, 388, 249, 154, 409, 284, 343, 484, 308, 132, 362, 127, 99, 263, 264, 107, 275, 663, 530, 85, 545, 187, 159, 528, 428, 41, 213, 341, 153, 341, 160, 541, 458, 200, 318, 91, 318, 364, 150, 386, 203, 235, 257, 157, 319, 268, 166, 831, 627, 523, 473, 584, 355, 524, 276, 184, 218, 118, 257, 150, 258, 407, 462, 380, 24, 276, 173, 502, 638, 129, 176, 740, 196, 212, 632, 35, 154, 177, 246, 99, 539, 174, 340, 129, 220, 245, 563, 100, 174, 647, 489, 399, 161, 94, 195, 534, 167, 409, 432, 280, 70, 203, 190, 244, 136, 108, 271, 119, 217, 84, 287, 99, 272, 247, 596, 172, 760, 261, 603, 172, 186, 188, 372, 93, 172, 414, 339, 220, 256, 260, 219, 362, 1271, 429, 231, 120, 239, 404, 407, 97, 1840, 448, 158, 174, 753, 433, 146, 286, 151, 578, 530, 1378, 140, 200, 271, 278, 215, 342, 765, 313, 221, 156, 465, 273, 637, 120, 456, 239, 441, 314, 518, 197, 559, 194, 320, 195, 134, 231, 86, 481, 169, 210, 468, 185, 263, 103, 310, 365, 1106, 628, 274, 352, 449, 280, 389, 383, 95, 766, 512, 973, 150, 364, 379, 245, 427, 80, 114, 297, 464, 156, 94, 220, 556, 477, 778, 258, 361, 270, 236, 441, 590, 273, 120, 279, 90, 173, 237, 511, 578, 179, 231, 440, 496, 40, 181, 723, 645, 304, 103, 588, 241, 224, 407, 428, 95, 331, 275, 135, 854, 657, 765, 718, 650, 707, 1166, 303, 248, 266, 426, 190, 401, 222, 347, 525, 399, 104, 1018, 684, 339, 736, 547, 570, 238, 535, 570, 19, 65, 157, 611, 293, 63, 138, 187, 377, 204, 180, 108, 528, 165, 26, 260, 84, 482, 378, 152, 288, 371, 757, 371, 927, 202, 239, 230, 280, 203, 461, 120, 142, 285, 230, 507, 243, 456, 188, 164, 256, 129, 243, 469, 109, 185, 372, 218, 463, 483, 189, 322, 445, 174, 395, 560, 146, 147, 449, 91, 112, 605, 300, 203, 124, 86, 183, 154, 218, 709, 131, 283, 486, 179, 479, 632, 413, 244, 439, 183, 225, 92, 379, 163, 638, 423, 266, 59, 355, 315, 87, 238, 179, 80, 120, 298, 159, 496, 662, 176, 229, 615, 892, 300, 167, 108, 200, 651, 171, 433, 103, 415, 519, 150, 346, 266, 352, 449, 230, 186, 171, 279, 227, 462, 245, 881, 202, 222, 141, 34, 193, 347, 278, 126, 289, 560, 685, 301, 333, 137, 560, 131, 268, 555, 223, 522, 208, 725, 645, 167, 688, 312, 558, 365, 239, 289, 227, 372, 183, 144, 229, 318, 461, 310, 116, 323, 734, 231, 269, 300, 437, 326, 208, 412, 180, 472, 471, 80, 631, 221, 373, 192, 503, 594, 294, 164, 165, 1122, 2231, 210, 153, 457, 252, 173, 417, 119, 209, 551, 666, 432, 123, 246, 213, 156, 436, 216, 521, 227, 320, 143, 182, 92, 118, 224, 491, 222, 199, 569, 1227, 224, 588, 248, 192, 325, 271, 213, 180, 577, 699, 131, 220, 141, 481, 415, 71, 268, 1204, 229, 290, 706, 188, 283, 139, 29, 148, 666, 1088, 212, 138, 179, 195, 227, 152, 679, 121, 305, 489, 664, 312, 161, 380, 500, 523, 282, 182, 408, 199, 187, 711, 406, 288, 188, 208, 294, 204, 130, 723, 483, 713, 216, 226, 464, 490, 420, 326, 287, 30, 100, 181, 146, 120, 221, 448, 148, 353, 330, 336, 398, 159, 495, 441, 225, 27, 214, 434, 309, 521, 397, 143, 149, 505, 211, 289, 401, 425, 142, 325, 640, 1057, 182, 139, 589, 269, 498, 144, 141, 494, 277, 284, 304, 522, 294, 479, 587, 216, 451, 492, 319, 310, 672, 293, 90, 437, 689, 322, 178, 204, 350, 525, 174, 612, 159, 313, 788, 302, 185, 260, 109, 535, 582, 391, 487, 658, 142, 415, 621, 468, 239, 170, 364, 344, 584, 199, 524, 710, 257, 577, 548, 306, 231, 284, 151, 166, 757, 452, 784, 430, 356, 178, 935, 155, 93, 941, 209, 442, 178, 54, 341, 298, 149, 373, 165, 309, 133, 336, 448, 136, 186, 377, 261, 2002, 52, 509, 136, 145, 522, 121, 487, 338, 400, 267, 431, 374, 184, 219, 156, 395, 467, 374, 224, 182, 495, 187, 715, 143, 116, 649, 176, 613, 189, 482, 340, 380, 424, 275, 947, 447, 193, 220, 161, 338, 254, 268, 97, 361, 211, 112, 91, 508, 166, 33, 370, 214, 163, 413, 29, 398, 103, 550, 733, 289, 74, 488, 146, 456, 142, 275, 206, 330, 246, 585, 141, 355, 277, 214, 130, 367, 56, 185, 294, 827, 88, 275, 696, 77, 219, 471, 150, 619, 220, 120, 271, 136, 230, 749, 464, 296, 138, 160, 217, 515, 676, 159, 195, 121, 433, 109, 102, 304, 288, 80, 591, 312, 1373, 419, 381, 537, 111, 217, 573, 527, 555, 471, 494, 906, 319, 279, 462, 477, 597, 98, 340, 485, 221, 567, 392, 397, 327, 116, 117, 419, 425, 166, 568, 97, 230, 432, 172, 338, 183, 472, 215, 120, 194, 258, 215, 327, 300, 513, 142, 82, 537, 234, 231, 156, 380, 287, 896, 236, 549, 286, 425, 188, 122, 159, 1904, 1048, 496, 174, 61, 480, 96, 545, 209, 247, 567, 240, 467, 177, 262, 523, 197, 573, 1427, 1591, 246, 305, 255, 179, 105, 83, 26, 273, 265, 200, 79, 137, 106, 186, 227, 181, 1000, 138, 230, 403, 598, 423, 261, 435, 506, 365, 152, 435, 458, 422, 378, 191, 28, 316, 235, 188, 251, 375, 209, 303, 186, 321, 351, 632, 224, 465, 211, 71, 390, 323, 198, 193, 341, 511, 198, 163, 144, 106, 220, 269, 338, 282, 221, 361, 527, 276, 519, 155, 123, 169, 111, 332, 367, 529, 462, 343, 456, 185, 229, 277, 160, 89, 169, 388, 303, 158, 269, 263, 125, 648, 289, 1939, 154, 255, 621, 516, 228, 250, 373, 451, 1445, 164, 240, 734, 226, 266, 117, 537, 489, 271, 119, 413, 369, 110, 344, 527, 150, 296, 537, 200, 110, 327, 690, 163, 96, 677, 171, 311, 343, 239, 486, 401, 271, 847, 397, 209, 32, 195, 150, 286, 240, 98, 574, 555, 522, 36, 322, 306, 247, 155, 1667, 148, 295, 293, 119, 343, 90, 254, 149, 172, 145, 131, 593, 560, 197, 364, 185, 570, 637, 1253, 191, 826, 164, 412, 163, 385, 445, 156, 62, 405, 398, 276, 283, 117, 442, 301, 472, 508, 157, 825, 253, 274, 459, 158, 295, 532, 487, 530, 714, 90, 829, 157, 93, 379, 401, 155, 274, 315, 312, 153, 280, 490, 30, 171, 139, 130, 548, 321, 459, 476, 322, 165, 544, 126, 249, 326, 453, 613, 381, 102, 236, 329, 483, 181, 240, 475, 242, 118, 786, 404, 409, 291, 212, 284, 238, 369, 176, 420, 32, 166, 958, 523, 493, 142, 262, 299, 182, 500, 320, 485, 119, 386, 269, 45, 415, 672, 375, 434, 568, 457, 198, 299, 145, 293, 73, 330, 400, 132, 285, 152, 137, 221, 853, 553, 172, 160, 163, 214, 397, 712, 877, 379, 438, 660, 318, 93, 491, 1024, 117, 386, 231, 243, 291, 582, 243, 267, 320, 136, 595, 668, 130, 531, 428, 138, 130, 398, 926, 278, 240, 198, 246, 510, 467, 325, 199, 705, 220, 26, 160, 162, 725, 365, 812, 583, 161, 569, 183, 243, 625, 341, 555, 1357, 363, 394, 145, 235, 430, 287, 443, 366, 238, 125, 182, 1683, 320, 280, 695, 498, 427, 233, 584, 516, 210, 826, 135, 433, 212, 414, 694, 168, 344, 340, 219, 530, 153, 218, 285, 244, 176, 656, 974, 678, 330, 70, 454, 324, 235, 197, 476, 1098, 192, 700, 246, 352, 662, 200, 295, 21, 583, 496, 33, 307, 664, 260, 504, 329, 269, 177, 679, 103, 170, 232, 193, 574, 310, 159, 256, 598, 361, 400, 592, 89, 530, 552, 96, 195, 513, 449, 222, 718, 174, 618, 332, 157, 427, 686, 163, 712, 143, 197, 106, 476, 194, 66, 207, 123, 478, 577, 346, 295, 339, 178, 866, 386, 245, 359, 526, 690, 164, 402, 643, 125, 164, 525, 406, 568, 149, 145, 114, 210, 412, 294, 698, 87, 136, 409, 444, 247, 129, 290, 237, 208, 307, 351, 419, 188, 302, 655, 498, 909, 293, 556, 504, 420, 754, 477, 301, 396, 1081, 173, 859, 372, 425, 115, 228, 133, 294, 381, 299, 249, 395, 256, 207, 215, 187, 217, 210, 295, 560, 306, 1273, 646, 472, 660, 185, 98, 282, 585, 214, 100, 505, 179, 345, 573, 109, 249, 286, 210, 123, 276, 553, 252, 822, 171, 694, 511, 134, 167, 242, 477, 234, 825, 340, 158, 206, 745, 188, 176, 121, 557, 176, 607, 144, 521, 537, 324, 250, 327, 128, 439, 872, 149, 173, 203, 50, 162, 69, 248, 192, 736, 527, 360, 54, 126, 1292, 136, 481, 2411, 285, 704, 289, 161, 329, 131, 323, 301, 250, 448, 107, 162, 503, 297, 851, 156, 245, 483, 212, 367, 629, 425, 380, 242, 182, 673, 1120, 109, 180, 267, 500, 187, 397, 126, 591, 188, 296, 427, 403, 27, 298, 747, 282, 504, 569, 525, 702, 176, 26, 56, 261, 258, 259, 346, 131, 490, 466, 191, 109, 433, 93, 341, 424, 846, 971, 167, 176, 444, 433, 159, 273, 291, 124, 811, 100, 439, 380, 124, 319, 984, 206, 233, 170, 323, 446, 386, 432, 505, 423, 199, 291, 976, 349, 281, 1019, 435, 509, 176, 364, 168, 96, 647, 26, 273, 205, 566, 1277, 562, 161, 1120, 209, 132, 178, 230, 97, 520, 354, 155, 211, 861, 134, 325, 126, 515, 332, 363, 504, 369, 112, 159, 114, 325, 119, 478, 599, 217, 98, 318, 113, 160, 381, 124, 278, 287, 228, 321, 405, 210, 455, 26, 151, 552, 566, 915, 404, 498, 411, 193, 163, 518, 462, 342, 280, 134, 410, 1164, 468, 1752, 15, 544, 689, 405, 248, 21, 618, 260, 253, 250, 686, 356, 461, 597, 147, 207, 516, 363, 408, 810, 192, 645, 694, 371, 206, 220, 505, 204, 147, 495, 27, 253, 325, 360, 357, 342, 91, 347, 257, 663, 104, 165, 414, 756, 917, 233, 24, 462, 120, 192, 245, 342, 316, 396, 127, 558, 979, 96, 141, 664, 528, 324, 348, 147, 371, 218, 673, 348, 164, 384, 602, 148, 43, 160, 185, 487, 1428, 307, 281, 501, 393, 355, 332, 295, 470, 193, 240, 126, 489, 33, 226, 180, 1237, 289, 561, 437, 475, 412, 499, 176, 507, 222, 409, 625, 212, 580, 200, 567, 473, 569, 320, 86, 285, 291, 373, 1347, 469, 156, 334, 307, 581, 121, 29, 591, 139, 150, 582, 709, 445, 329, 197, 670, 526, 176, 542, 498, 64, 130, 283, 138, 323, 163, 481, 135, 291, 301, 220, 171, 135, 459, 179, 265, 1048, 161, 197, 214, 363, 330, 231, 1078, 507, 318, 274, 411, 791, 219, 153, 301, 274, 112, 902, 246, 27, 636, 263, 130, 664, 392, 145, 301, 724, 116, 122, 171, 57, 642, 146, 1001, 548, 746, 386, 221, 68, 96, 154, 439, 228, 430, 756, 427, 376, 361, 534, 511, 186, 156, 134, 101, 121, 293, 369, 326, 193, 811, 272, 336, 80, 365, 299, 354, 454, 612, 673, 228, 221, 187, 193, 206, 278, 236, 303, 311, 251, 185, 200, 469, 197, 247, 331, 174, 94, 148, 147, 138, 115, 185, 270, 293, 409, 436, 30, 145, 119, 178, 430, 356, 382, 495, 1105, 147, 522, 406, 222, 241, 167, 175, 670, 251, 619, 399, 281, 168, 732, 201, 169, 451, 473, 842, 116, 477, 552, 727, 108, 80, 303, 185, 893, 298, 236, 198, 337, 574, 143, 399, 554, 222, 1115, 516, 185, 453, 202, 895, 221, 37, 484, 139, 203, 151, 1244, 343, 82, 164, 343, 85, 108, 222, 179, 358, 1359, 357, 573, 726, 237, 146, 420, 79, 161, 463, 620, 157, 117, 210, 159, 170, 380, 657, 242, 397, 643, 126, 137, 180, 553, 474, 390, 313, 418, 110, 589, 26, 234, 714, 141, 445, 222, 765, 195, 117, 1204, 457, 461, 214, 154, 184, 668, 193, 622, 349, 783, 295, 184, 432, 191, 85, 256, 21, 573, 283, 570, 510, 112, 190, 118, 667, 147, 273, 505, 531, 300, 187, 152, 592, 131, 551, 599, 289, 1742, 239, 161, 243, 868, 469, 451, 184, 1475, 65, 99, 105, 720, 279, 3063, 486, 1044, 363, 259, 133, 399, 278, 455, 27, 171, 224, 634, 100, 281, 898, 325, 133, 648, 420, 227, 794, 180, 244, 64, 994, 240, 567, 434, 128, 526, 413, 296, 119, 189, 242, 141, 244, 181, 123, 131, 845, 1583, 182, 847, 390, 126, 319, 903, 119, 552, 382, 188, 243, 391, 414, 207, 279, 517, 360, 185, 312, 241, 579, 553, 188, 377, 261, 63, 127, 347, 182, 734, 352, 402, 156, 283, 215, 253, 390, 440, 117, 510, 331, 371, 545, 137, 516, 954, 391, 157, 245, 986, 493, 184, 230, 97, 168, 722, 294, 211, 75, 134, 305, 288, 422, 172, 383, 285, 450, 362, 172, 170, 164, 540, 366, 488, 378, 296, 397, 455, 1020, 308, 849, 1045, 563, 341, 714, 192, 171, 157, 423, 181, 482, 486, 214, 120, 459, 285, 755, 141, 501, 777, 388, 149, 249, 187, 294, 454, 212, 468, 102, 338, 217, 281, 788, 335, 211, 110, 119, 199, 1318, 160, 190, 851, 2383, 29, 109, 503, 439, 361, 282, 109, 425, 137, 160, 655, 301, 18, 180, 162, 814, 481, 368, 166, 341, 35, 27, 143, 348, 379, 205, 524, 314, 263, 333, 883, 592, 420, 383, 290, 351, 654, 212, 284, 557, 172, 291, 576, 560, 596, 341, 170, 906, 197, 232, 178, 375, 161, 162, 700, 512, 194, 184, 171, 126, 325, 503, 444, 188, 151, 277, 514, 236, 74, 95, 271, 185, 478, 618, 256, 302, 274, 189, 519, 205, 397, 260, 402, 284, 64, 106, 469, 466, 372, 159, 207, 226, 411, 797, 566, 310, 237, 184, 554, 488, 217, 210, 497, 181, 668, 152, 623, 340, 146, 187, 449, 178, 280, 184, 300, 128, 152, 229, 311, 121, 33, 638, 376, 1245, 649, 243, 27, 626, 983, 115, 390, 306, 271, 354, 308, 509, 295, 102, 310, 441, 192, 260, 719, 234, 530, 130, 202, 382, 1435, 306, 936, 435, 527, 271, 1649, 24, 317, 276, 348, 1052, 218, 285, 169, 324, 616, 207, 373, 543, 217, 399, 404, 140, 631, 257, 213, 629, 458, 281, 308, 390, 94, 494, 176, 596, 309, 173, 365, 125, 85, 151, 141, 508, 228, 167, 530, 308, 117, 515, 524, 502, 301, 2085, 375, 340, 255, 223, 647, 186, 508, 287, 196, 788, 164, 116, 1061, 224, 851, 323, 167, 159, 337, 170, 441, 257, 382, 127, 445, 238, 381, 405, 405, 369, 1152, 168, 270, 456, 363, 335, 34, 106, 54, 384, 187, 558, 221, 363, 483, 383, 197, 246, 198, 233, 502, 142, 380, 453, 1247, 174, 499, 719, 165, 247, 415, 287, 193, 405, 130, 240, 1092, 481, 337, 295, 462, 152, 207, 165, 264, 325, 342, 238, 684, 540, 189, 101, 290, 495, 502, 322, 143, 518, 199, 405, 835, 21, 159, 157, 467, 400, 111, 325, 174, 172, 213, 372, 82, 557, 21, 28, 561, 125, 531, 224, 273, 173, 30, 272, 909, 136, 142, 551, 247, 544, 104, 183, 135, 103, 492, 403, 1845, 630, 391, 626, 397, 212, 48, 134, 675, 588, 171, 206, 447, 385, 224, 1243, 223, 308, 607, 476, 529, 587, 217, 202, 297, 391, 202, 380, 434, 189, 308, 483, 544, 871, 464, 411, 584, 68, 157, 514, 188, 312, 599, 459, 773, 794, 309, 341, 178, 102, 370, 340, 639, 438, 280, 323, 381, 299, 502, 281, 323, 236, 188, 192, 270, 385, 254, 467, 278, 667, 330, 493, 78, 364, 248, 497, 568, 350, 317, 544, 134, 37, 146, 113, 149, 678, 613, 878, 559, 213, 172, 152, 209, 322, 166, 433, 377, 37, 188, 114, 183, 373, 179, 361, 802, 143, 371, 449, 339, 704, 651, 1534, 267, 386, 528, 810, 238, 772, 255, 247, 571, 516, 426, 365, 1054, 507, 638, 815, 370, 140, 101, 483, 165, 127, 163, 457, 323, 429, 280, 374, 461, 436, 459, 408, 184, 179, 315, 103, 1063, 989, 167, 239, 306, 180, 280, 124, 135, 527, 272, 603, 103, 234, 583, 228, 188, 512, 140, 240, 463, 224, 219, 217, 391, 424, 580, 173, 207, 474, 163, 327, 216, 212, 213, 430, 4, 517, 674, 152, 402, 423, 540, 187, 163, 449, 395, 175, 275, 172, 361, 367, 374, 633, 428, 237, 358, 271, 242, 239, 178, 272, 175, 346, 211, 715, 206, 248, 182, 602, 190, 352, 235, 512, 477, 184, 62, 265, 132, 256, 342, 137, 175, 579, 310, 395, 142, 122, 503, 683, 195, 298, 297, 649, 309, 454, 163, 737, 779, 126, 601, 150, 512, 108, 671, 410, 363, 180, 120, 263, 197, 118, 69, 142, 212, 111, 225, 229, 239, 124, 219, 490, 468, 410, 233, 879, 2377, 569, 111, 218, 373, 1052, 441, 133, 578, 387, 262, 465, 82, 164, 862, 66, 706, 177, 109, 177, 135, 502, 338, 371, 820, 745, 684, 157, 95, 321, 302, 469, 126, 1343, 237, 912, 352, 614, 29, 113, 288, 308, 141, 424, 282, 252, 478, 81, 495, 202, 142, 22, 439, 145, 353, 635, 380, 43, 142, 306, 366, 443, 1135, 702, 281, 397, 434, 306, 1376, 158, 216, 111, 465, 729, 151, 98, 419, 159, 192, 207, 217, 146, 133, 570, 466, 170, 106, 253, 170, 345, 157, 443, 212, 199, 70, 181, 569, 303, 617, 462, 83, 503, 94, 248, 172, 99, 506, 227, 394, 544, 104, 648, 222, 85, 176, 601, 104, 204, 312, 544, 588, 618, 473, 313, 219, 432, 425, 352, 558, 521, 405, 244, 378, 187, 798, 283, 219, 50, 84, 626, 151, 162, 132, 318, 169, 185, 103, 200, 331, 397, 276, 175, 685, 238, 162, 410, 1014, 172, 230, 96, 530, 428, 422, 243, 303, 575, 396, 523, 141, 815, 751, 102, 247, 133, 213, 21, 550, 355, 479, 181, 463, 402, 295, 155, 189, 60, 781, 380, 497, 406, 269, 361, 388, 775, 354, 348, 707, 518, 645, 433, 194, 541, 547, 287, 240, 169, 453, 400, 159, 194, 64, 208, 461, 412, 318, 517, 459, 248, 504, 634, 239, 44, 243, 128, 388, 469, 163, 688, 279, 447, 538, 511, 298, 273, 1097, 242, 367, 343, 298, 193, 152, 340, 255, 644, 542, 275, 33, 859, 368, 384, 549, 784, 248, 721, 176, 291, 479, 421, 187, 237, 585, 327, 113, 544, 140, 650, 1024, 26, 242, 106, 359, 406, 254, 29, 204, 363, 376, 581, 677, 330, 321, 466, 586, 444, 649, 223, 619, 499, 599, 309, 277, 251, 474, 136, 321, 515, 452, 568, 234, 329, 221, 270, 377, 351, 240, 38, 424, 176, 1097, 404, 160, 229, 128, 623, 440, 453, 463, 68, 276, 140, 25, 259, 557, 213, 276, 209, 517, 115, 106, 205, 419, 331, 134, 329, 1508, 516, 31, 92, 185, 465, 673, 281, 1006, 153, 49, 133, 362, 87, 182, 244, 418, 170, 152, 857, 528, 154, 159, 470, 503, 927, 365, 339, 579, 554, 198, 661, 134, 221, 192, 521, 318, 198, 647, 216, 220, 514, 239, 582, 458, 285, 1066, 384, 246, 25, 136, 192, 177, 146, 606, 183, 230, 152, 648, 233, 807, 382, 278, 702, 391, 116, 324, 324, 182, 389, 108, 342, 75, 289, 358, 165, 240, 311, 550, 182, 466, 221, 331, 241, 349, 435, 158, 621, 550, 279, 351, 337, 733, 403, 379, 146, 575, 649, 244, 496, 295, 158, 566, 61, 112, 173, 820, 228, 431, 407, 332, 292, 272, 96, 505, 246, 224, 996, 234, 170, 288, 330, 302, 253, 566, 135, 584, 153, 306, 484, 103, 180, 315, 268, 852, 343, 115, 487, 239, 167, 163, 448, 248, 206, 100, 2001, 416, 165, 602, 186, 710, 166, 84, 320, 342, 169, 184, 485, 364, 86, 36, 180, 238, 136, 189, 297, 258, 252, 253, 306, 391, 123, 618, 622, 505, 131, 521, 499, 411, 401, 363, 247, 576, 396, 704, 198, 93, 324, 527, 452, 227, 505, 323, 329, 301, 349, 131, 268, 208, 138, 145, 426, 503, 1101, 248, 26, 130, 659, 145, 185, 761, 363, 266, 606, 25, 617, 199, 123, 258, 221, 161, 137, 510, 131, 1122, 197, 152, 343, 380, 317, 254, 258, 375, 402, 191, 647, 160, 334, 155, 87, 149, 248, 476, 297, 354, 218, 609, 249, 170, 323, 432, 480, 208, 369, 391, 33, 641, 559, 1009, 125, 318, 773, 375, 850, 146, 379, 575, 313, 181, 281, 201, 656, 435, 303, 23, 288, 143, 100, 766, 515, 124, 167, 547, 193, 160, 356, 508, 180, 676, 457, 187, 266, 186, 154, 252, 720, 519, 441, 85, 175, 153, 625, 522, 143, 287, 303, 340, 291, 569, 396, 336, 145, 509, 206, 366, 354, 457, 243, 463, 754, 443, 137, 266, 392, 313, 527, 526, 635, 179, 589, 163, 351, 171, 544, 184, 55, 215, 95, 478, 125, 201, 264, 282, 856, 574, 746, 1463, 134, 308, 135, 1072, 294, 312, 466, 299, 452, 447, 349, 330, 255, 127, 417, 564, 91, 575, 175, 654, 137, 149, 185, 687, 134, 892, 264, 597, 158, 23, 100, 467, 818, 159, 213, 207, 566, 159, 1085, 493, 217, 784, 628, 29, 147, 438, 614, 540, 633, 834, 392, 375, 244, 845, 194, 601, 358, 242, 316, 210, 354, 354, 169, 698, 591, 212, 252, 670, 163, 384, 331, 1114, 311, 377, 800, 178, 296, 532, 73, 175, 719, 324, 525, 647, 262, 672, 134, 271, 97, 545, 508, 154, 125, 356, 340, 556, 197, 314, 471, 279, 436, 590, 169, 87, 33, 111, 210, 713, 216, 693, 278, 29, 944, 183, 507, 709, 214, 273, 267, 568, 314, 147, 713, 382, 137, 979, 288, 123, 136, 55, 147, 476, 162, 171, 90, 444, 256, 34, 195, 257, 1587, 512, 1356, 507, 970, 343, 1134, 368, 165, 316, 199, 343, 589, 590, 781, 426, 323, 751, 293, 562, 430, 196, 254, 349, 146, 408, 127, 1214, 61, 261, 589, 553, 369, 131, 235, 106, 913, 518, 501, 206, 622, 687, 627, 893, 209, 657, 356, 133, 473, 210, 579, 482, 587, 157, 176, 158, 1078, 387, 199, 389, 212, 295, 189, 403, 423, 231, 93, 79, 266, 162, 218, 609, 500, 181, 179, 272, 109, 364, 271, 165, 543, 90, 664, 248, 323, 177, 173, 502, 122, 579, 332, 246, 293, 156, 167, 396, 287, 552, 105, 153, 168, 162, 468, 255, 372, 93, 639, 252, 127, 647, 183, 392, 134, 152, 325, 411, 676, 693, 400, 742, 148, 194, 197, 191, 364, 217, 1114, 1828, 603, 247, 324, 405, 724, 1729, 531, 226, 465, 224, 159, 190, 323, 687, 779, 494, 202, 395, 203, 620, 122, 325, 194, 144, 328, 300, 308, 894, 341, 159, 274, 485, 153, 514, 294, 435, 88, 368, 102, 478, 215, 192, 167, 337, 118, 714, 404, 140, 89, 238, 177, 310, 342, 239, 343, 181, 214, 249, 258, 77, 266, 252, 217, 109, 553, 228, 485, 449, 326, 316, 170, 181, 1016, 248, 327, 383, 245, 217, 519, 409, 244, 935, 120, 267, 237, 30, 174, 216, 68, 206, 215, 254, 217, 188, 639, 146, 451, 155, 229, 718, 527, 440, 666, 250, 274, 263, 339, 67, 372, 215, 1747, 98, 213, 592, 580, 1413, 254, 284, 656, 344, 341, 422, 307, 271, 348, 373, 289, 561, 250, 256, 176, 324, 314, 217, 246, 470, 723, 435, 814, 984, 273, 407, 243, 51, 434, 109, 452, 503, 900, 405, 195, 25, 238, 1020, 353, 551, 242, 198, 151, 153, 146, 277, 107, 329, 220, 657, 258, 422, 861, 97, 293, 236, 228, 368, 142, 644, 265, 322, 261, 374, 176, 574, 166, 207, 503, 128, 119, 557, 378, 176, 437, 299, 268, 294, 123, 570, 785, 214, 944, 324, 114, 238, 390, 405, 156, 218, 389, 347, 405, 100, 651, 314, 688, 370, 246, 387, 250, 75, 720, 467, 484, 115, 374, 251, 515, 362, 184, 148, 343, 499, 672, 508, 374, 335, 534, 67, 247, 417, 461, 988, 1164, 120, 193, 223, 415, 298, 690, 289, 142, 162, 99, 575, 193, 345, 513, 373, 158, 322, 212, 355, 22, 255, 314, 285, 528, 382, 446, 103, 438, 74, 247, 422, 170, 24, 195, 515, 254, 964, 151, 80, 176, 201, 200, 528, 649, 448, 153, 151, 467, 205, 370, 216, 172, 240, 134, 265, 269, 422, 337, 529, 292, 316, 503, 367, 392, 194, 123, 356, 284, 131, 628, 169, 491, 659, 441, 146, 196, 596, 298, 279, 147, 174, 454, 711, 147, 183, 1389, 198, 493, 551, 730, 829, 285, 581, 271, 135, 139, 306, 378, 89, 141, 157, 125, 445, 200, 534, 248, 176, 111, 353, 181, 237, 102, 223, 141, 468, 945, 158, 202, 114, 272, 420, 145, 207, 285, 115, 25, 48, 234, 345, 28, 249, 495, 731, 608, 359, 513, 239, 204, 166, 490, 116, 383, 498, 1301, 128, 836, 690, 404, 349, 577, 16, 285, 525, 129, 212, 118, 116, 355, 159, 199, 299, 410, 626, 376, 453, 252, 124, 167, 492, 610, 126, 402, 261, 130, 593, 786, 179, 164, 139, 443, 143, 236, 236, 26, 416, 604, 170, 426, 1342, 136, 297, 197, 425, 586, 12, 151, 212, 323, 300, 1046, 200, 762, 122, 340, 659, 763, 134, 133, 162, 145, 185, 638, 278, 409, 107, 539, 1356, 280, 169, 243, 356, 284, 389, 290, 454, 140, 216, 512, 454, 495, 162, 115, 202, 592, 308, 378, 123, 131, 332, 385, 169, 676, 595, 200, 349, 181, 204, 219, 551, 185, 491, 244, 178, 253, 312, 56, 164, 584, 874, 322, 417, 804, 149, 263, 600, 475, 217, 1136, 142, 931, 157, 380, 450, 170, 539, 624, 342, 389, 240, 244, 92, 359, 25, 482, 203, 228, 330, 298, 697, 140, 297, 549, 352, 222, 354, 253, 532, 156, 117, 155, 152, 791, 238, 632, 126, 45, 268, 481, 25, 142, 108, 326, 448, 551, 205, 374, 471, 224, 229, 588, 434, 336, 281, 114, 91, 115, 485, 238, 218, 91, 498, 640, 356, 395, 218, 109, 250, 250, 401, 93, 193, 653, 332, 357, 742, 504, 2036, 494, 26, 373, 187, 219, 574, 1036, 513, 217, 172, 189, 429, 128, 342, 485, 325, 395, 112, 574, 368, 254, 179, 110, 473, 255, 440, 356, 251, 159, 894, 280, 52, 750, 354, 566, 821, 191, 347, 671, 1643, 72, 256, 1048, 315, 179, 545, 133, 481, 249, 624, 379, 219, 342, 192, 112, 333, 326, 199, 250, 204, 172, 129, 326, 585, 274, 78, 340, 340, 223, 421, 146, 181, 337, 300, 290, 90, 318, 390, 354, 125, 156, 422, 151, 256, 568, 284, 808, 138, 504, 686, 203, 199, 432, 130, 107, 200, 350, 534, 1049, 294, 633, 383, 560, 677, 367, 200, 420, 600, 260, 69, 431, 253, 512, 327, 129, 205, 384, 1103, 351, 638, 325, 408, 137, 135, 277, 782, 156, 166, 205, 285, 344, 339, 278, 651, 160, 197, 151, 794, 489, 207, 593, 120, 602, 504, 142, 219, 449, 777, 508, 205, 661, 632, 211, 1114, 203, 316, 162, 113, 420, 255, 258, 2693, 349, 182, 78, 554, 538, 129, 1179, 24, 213, 539, 427, 389, 315, 282, 676, 82, 806, 257, 191, 23, 403, 839, 290, 451, 207, 572, 218, 444, 102, 172, 346, 186, 155, 330, 452, 196, 508, 1316, 167, 614, 501, 129, 443, 134, 246, 233, 310, 867, 843, 171, 504, 127, 625, 85, 355, 400, 482, 76, 457, 1331, 603, 240, 270, 323, 240, 58, 203, 222, 208, 319, 508, 111, 575, 313, 329, 189, 713, 473, 398, 831, 133, 449, 477, 313, 455, 670, 478, 878, 76, 242, 155, 210, 170, 113, 199, 522, 446, 107, 601, 484, 333, 234, 806, 323, 250, 93, 128, 502, 275, 265, 128, 241, 379, 182, 148, 382, 140, 534, 120, 265, 155, 248, 138, 129, 218, 257, 232, 389, 547, 256, 338, 355, 307, 411, 297, 185, 438, 212, 203, 212, 405, 164, 288, 232, 120, 299, 536, 119, 210, 101, 252, 380, 494, 26, 247, 419, 393, 786, 344, 259, 325, 129, 454, 381, 559, 519, 137, 223, 1198, 1540, 467, 598, 471, 301, 237, 158, 405, 476, 492, 324, 301, 280, 408, 108, 385, 111, 152, 592, 451, 181, 476, 100, 122, 256, 374, 318, 378, 203, 379, 672, 168, 2069, 196, 666, 329, 349, 463, 55, 107, 34, 214, 107, 299, 290, 142, 363, 27, 361, 414, 262, 699, 117, 632, 411, 136, 221, 936, 268, 557, 150, 179, 247, 199, 535, 496, 359, 227, 178, 420, 250, 571, 209, 98, 570, 241, 84, 111, 334, 298, 171, 67, 761, 881, 247, 263, 362, 383, 142, 702, 574, 147, 156, 206, 325, 253, 168, 686, 686, 186, 225, 241, 238, 235, 174, 118, 180, 566, 226, 108, 103, 208, 139, 246, 323, 452, 492, 353, 180, 370, 282, 267, 316, 178, 295, 134, 552, 498, 407, 269, 173, 281, 501, 166, 513, 322, 674, 244, 349, 654, 188, 180, 165, 519, 99, 133, 400, 712, 170, 471, 516, 269, 546, 165, 434, 209, 391, 113, 363, 154, 402, 453, 315, 182, 1017, 723, 521, 260, 139, 854, 159, 350, 258, 49, 296, 620, 241, 125, 157, 544, 126, 146, 243, 303, 218, 159, 405, 469, 624, 836, 373, 665, 124, 348, 226, 330, 336, 432, 659, 172, 632, 79, 13, 843, 282, 776, 302, 145, 156, 308, 393, 283, 106, 165, 120, 398, 123, 684, 295, 251, 341, 149, 500, 34, 261, 680, 480, 163, 292, 347, 112, 182, 166, 105, 171, 291, 168, 244, 311, 347, 577, 493, 283, 2237, 553, 169, 502, 43, 956, 133, 352, 661, 190, 613, 153, 1142, 306, 174, 247, 548, 115, 188, 199, 215, 141, 617, 193, 94, 105, 347, 316, 975, 157, 1380, 312, 1094, 124, 752, 648, 205, 135, 223, 295, 323, 512, 247, 375, 351, 295, 158, 278, 229, 449, 669, 270, 175, 471, 396, 509, 751, 160, 339, 257, 162, 399, 131, 510, 139, 176, 458, 1518, 123, 551, 239, 148, 361, 162, 169, 746, 256, 176, 539, 308, 300, 320, 124, 167, 87, 247, 507, 285, 821, 314, 444, 252, 246, 177, 832, 225, 239, 191, 572, 442, 382, 259, 174, 282, 410, 133, 232, 126, 555, 225, 191, 531, 1084, 214, 179, 775, 372, 154, 498, 596, 187, 535, 194, 354, 207, 224, 553, 1667, 140, 271, 126, 173, 310, 584, 1305, 232, 616, 188, 466, 980, 75, 180, 563, 215, 244, 1442, 588, 830, 222, 183, 153, 204, 496, 383, 437, 584, 471, 354, 486, 188, 161, 334, 158, 141, 172, 186, 383, 244, 385, 115, 328, 360, 463, 180, 163, 135, 431, 241, 126, 93, 515, 138, 716, 737, 97, 1298, 421, 247, 400, 56, 511, 140, 555, 251, 337, 164, 262, 483, 115, 784, 197, 129, 207, 400, 214, 799, 380, 568, 418, 147, 387, 200, 432, 419, 190, 512, 411, 195, 133, 182, 444, 181, 413, 232, 385, 366, 341, 504, 355, 83, 182, 111, 315, 847, 180, 347, 387, 210, 534, 264, 101, 131, 222, 113, 107, 784, 320, 435, 128, 242, 623, 662, 142, 294, 183, 269, 534, 175, 178, 76, 193, 462, 155, 333, 213, 359, 167, 387, 176, 151, 226, 166, 149, 133, 484, 260, 350, 114, 376, 101, 610, 360, 975, 109, 430, 103, 679, 378, 252, 277, 581, 1164, 508, 228, 188, 177, 113, 167, 548, 619, 210, 551, 496, 223, 1200, 222, 179, 559, 298, 498, 224, 276, 443, 285, 220, 188, 109, 459, 433, 341, 338, 564, 103, 538, 681, 937, 188, 545, 71, 513, 114, 176, 51, 336, 154, 641, 248, 163, 487, 706, 99, 143, 684, 182, 33, 730, 676, 171, 500, 358, 204, 476, 1046, 665, 189, 322, 126, 166, 337, 175, 660, 600, 425, 22, 412, 27, 299, 639, 250, 184, 132, 320, 469, 24, 221, 626, 507, 317, 490, 201, 499, 170, 404, 114, 504, 438, 310, 262, 405, 396, 406, 571, 98, 327, 174, 854, 205, 452, 200, 432, 108, 286, 240, 90, 99, 141, 90, 260, 371, 132, 183, 1681, 151, 273, 350, 2739, 140, 366, 354, 453, 209, 414, 230, 318, 267, 565, 289, 279, 492, 467, 243, 507, 432, 598, 252, 246, 325, 425, 761, 538, 207, 367, 147, 413, 252, 177, 438, 235, 1159, 81, 175, 205, 297, 942, 136, 801, 467, 183, 402, 344, 232, 301, 361, 1240, 150, 93, 417, 415, 29, 502, 406, 613, 269, 53, 159, 477, 649, 425, 731, 294, 506, 545, 289, 264, 155, 516, 263, 378, 160, 523, 220, 238, 769, 92, 245, 431, 329, 558, 462, 1257, 374, 433, 1156, 423, 589, 552, 171, 469, 305, 135, 398, 227, 161, 615, 355, 260, 539, 769, 240, 174, 596, 548, 140, 222, 282, 576, 540, 233, 358, 585, 430, 287, 590, 336, 92, 140, 142, 552, 878, 486, 283, 314, 1243, 313, 695, 347, 272, 637, 422, 267, 418, 520, 606, 254, 349, 33, 104, 142, 828, 246, 150, 448, 536, 554, 173, 204, 300, 512, 663, 157]\n",
            "Average article length: 363.16 words\n"
          ]
        }
      ],
      "source": [
        "article_texts = df['Article']\n",
        "article_lengths = []\n",
        "# Calculate the length of each article and store it in the list\n",
        "for text in article_texts:\n",
        "    # You can choose to calculate length based on words or characters\n",
        "    # For word count, use len(text.split())\n",
        "    # For character count, use len(text)\n",
        "    article_lengths.append(len(text.split()))  # Calculating based on words\n",
        "   # article_lengths.append(len(text))            # Calculating based on characters\n",
        "# Calculate the average length\n",
        "average_length = sum(article_lengths) / len(article_lengths)\n",
        "print(article_lengths)\n",
        "print(f'Average article length: {average_length:.2f} words')"
      ]
    },
    {
      "cell_type": "code",
      "execution_count": 12,
      "metadata": {
        "colab": {
          "base_uri": "https://localhost:8080/"
        },
        "id": "xPIAz73ribux",
        "outputId": "38c3b520-76b9-4572-e04a-764e7ed10771"
      },
      "outputs": [
        {
          "output_type": "execute_result",
          "data": {
            "text/plain": [
              "Index(['Panorama', 'Web', 'International', 'Wirtschaft', 'Sport', 'Inland',\n",
              "       'Etat', 'Wissenschaft', 'Kultur'],\n",
              "      dtype='object')"
            ]
          },
          "metadata": {},
          "execution_count": 12
        }
      ],
      "source": [
        "category_count = df['Labels'].value_counts()\n",
        "\n",
        "categories = category_count.index\n",
        "\n",
        "categories"
      ]
    },
    {
      "cell_type": "code",
      "execution_count": 13,
      "metadata": {
        "colab": {
          "base_uri": "https://localhost:8080/"
        },
        "id": "TCqLE4zxibxG",
        "outputId": "f66de86e-5057-4e6c-b8a8-dc5c85459f9d"
      },
      "outputs": [
        {
          "output_type": "stream",
          "name": "stdout",
          "text": [
            "           Labels                                            Article  \\\n",
            "0           Sport  21-Jähriger fällt wohl bis Saisonende aus. Wie...   \n",
            "1          Kultur  Erfundene Bilder zu Filmen, die als verloren g...   \n",
            "2             Web  Der frischgekürte CEO Sundar Pichai setzt auf ...   \n",
            "3      Wirtschaft  Putin: \"Einigung, dass wir Menge auf Niveau vo...   \n",
            "4          Inland  Estland sieht den künftigen österreichischen P...   \n",
            "...           ...                                                ...   \n",
            "10266         Web  Programm \"Ebay Plus\" soll Ende September start...   \n",
            "10267      Inland  Fehlerhafte Bilanz 2013, Partei will berufen –...   \n",
            "10268       Sport  Als erster Olympia-Champion auch Hawaii-Sieger...   \n",
            "10269       Sport  Der Außenseiter aus Denver gewinnt die 50. Sup...   \n",
            "10270         Web  Wohl keine Einschränkungen bei Google-Services...   \n",
            "\n",
            "       encoded_text  \n",
            "0                 5  \n",
            "1                 3  \n",
            "2                 6  \n",
            "3                 7  \n",
            "4                 1  \n",
            "...             ...  \n",
            "10266             6  \n",
            "10267             1  \n",
            "10268             5  \n",
            "10269             5  \n",
            "10270             6  \n",
            "\n",
            "[10270 rows x 3 columns]\n"
          ]
        }
      ],
      "source": [
        "df['encoded_text'] = df['Labels'].astype('category').cat.codes\n",
        "\n",
        "df.head(10)\n",
        "print(df)"
      ]
    },
    {
      "cell_type": "code",
      "execution_count": 14,
      "metadata": {
        "id": "2Tzk9FW85Lql"
      },
      "outputs": [],
      "source": [
        "import pandas as pd\n",
        "from sklearn.model_selection import train_test_split\n",
        "\n",
        "# Assuming you have a DataFrame named df with 'Labels' and 'Article' columns\n",
        "\n",
        "# Step 1: Group by unique labels\n",
        "grouped = df.groupby('encoded_text')\n",
        "\n",
        "# Step 2: Make 9 subsets\n",
        "subsets = {label: group for label, group in grouped}\n",
        "\n",
        "# Initialize empty lists for 80% and 20% subsets\n",
        "subsets_80 = []\n",
        "subsets_20 = []\n",
        "\n",
        "# Step 3 and 4: Split 80% and 20%, then merge into DataFrames\n",
        "for label, group in subsets.items():\n",
        "    subset_80, subset_20 = train_test_split(group, train_size=0.8, random_state=42)\n",
        "    subsets_80.append(subset_80)\n",
        "    subsets_20.append(subset_20)\n",
        "\n",
        "# Concatenate subsets into DataFrames\n",
        "combined_subset_80 = pd.concat(subsets_80, ignore_index=True)\n",
        "combined_subset_20 = pd.concat(subsets_20, ignore_index=True)\n",
        "\n",
        "# Step 5: Separate labels and articles\n",
        "train_texts = combined_subset_80['Article'].to_list()\n",
        "train_labels = combined_subset_80['encoded_text'].to_list()\n",
        "\n",
        "test_texts = combined_subset_20['Article'].to_list()\n",
        "test_labels = combined_subset_20['encoded_text'].to_list()\n"
      ]
    },
    {
      "cell_type": "code",
      "execution_count": 15,
      "metadata": {
        "id": "UdLy60mqkXno",
        "colab": {
          "base_uri": "https://localhost:8080/",
          "height": 197,
          "referenced_widgets": [
            "e14a4268e02d427393cacb65d5b3df92",
            "1001a6f5d7944a74926fe0eabf636301",
            "35f491dae5204178b2559acb59c421d9",
            "a47dd52f938a46088fa3c97c94c5908e",
            "955351192c244574b403bbef28d2987d",
            "61deabff66264247b371733135527866",
            "ca97f42901a54f85bf56772558b78887",
            "920d30302f9b48f28b6b01ba9b27fab6",
            "8c20f96955d84376b2f86d0c729b006a",
            "6d3a7c81a1d04216b46c149890258895",
            "fb6d92a9e8034e79a58e896bd4fe3ee8",
            "e9e14bad084547f0a71cc4687cc29ab3",
            "bb8fc63d8af54314ba2e91866d1add0f",
            "61627095e97b4d6f908e7999511b4694",
            "f6960ea133eb43ca994a5c930207cb09",
            "937046fd76c145ba9fb4bfd1d82302a0",
            "8cd4e783384b4085bba988aab1fa7948",
            "371f7638ef1643d48cebc3e986bfc14f",
            "501e5e51318f4a85b2f5bf5d5111502b",
            "cef68d257dfb4c53be7746233a85b5fa",
            "a46be3811938475fad45d616eaae7054",
            "dbf25a8009474cd680e0657784d9a397",
            "1bd68749bdcc47dfb17c160d66bcc99d",
            "9e82551190dd4212b1a303386077de3e",
            "472c80dab3384d83985bc3ca963557a9",
            "23bdde02ae69421e893e38c3babf4857",
            "5b1487bb08d249538f4fc6178c9a86bf",
            "db37ebb05a1c452b9f329cf1d6201ac4",
            "97c3b547269e4455b9c9bf81ee9ecf00",
            "1d993cb626dc4908b9606673117b57cd",
            "11c85abd03ab48a8b2c782db48af3e77",
            "474f575b01034a629e4ea8006f16293d",
            "de19b902a4494b319f32842f63fdcca2"
          ]
        },
        "outputId": "07db843d-e658-4b40-ee5c-e26d723b7ec4"
      },
      "outputs": [
        {
          "output_type": "display_data",
          "data": {
            "text/plain": [
              "Downloading (…)tencepiece.bpe.model:   0%|          | 0.00/5.07M [00:00<?, ?B/s]"
            ],
            "application/vnd.jupyter.widget-view+json": {
              "version_major": 2,
              "version_minor": 0,
              "model_id": "e14a4268e02d427393cacb65d5b3df92"
            }
          },
          "metadata": {}
        },
        {
          "output_type": "display_data",
          "data": {
            "text/plain": [
              "Downloading (…)/main/tokenizer.json:   0%|          | 0.00/9.10M [00:00<?, ?B/s]"
            ],
            "application/vnd.jupyter.widget-view+json": {
              "version_major": 2,
              "version_minor": 0,
              "model_id": "e9e14bad084547f0a71cc4687cc29ab3"
            }
          },
          "metadata": {}
        },
        {
          "output_type": "display_data",
          "data": {
            "text/plain": [
              "Downloading (…)lve/main/config.json:   0%|          | 0.00/615 [00:00<?, ?B/s]"
            ],
            "application/vnd.jupyter.widget-view+json": {
              "version_major": 2,
              "version_minor": 0,
              "model_id": "1bd68749bdcc47dfb17c160d66bcc99d"
            }
          },
          "metadata": {}
        }
      ],
      "source": [
        "from transformers import XLMRobertaForSequenceClassification\n",
        "tokenizer = XLMRobertaTokenizerFast.from_pretrained(\"xlm-roberta-base\")\n",
        "\n",
        "train_encodings = tokenizer(train_texts, truncation = True, padding = True)\n",
        "\n",
        "test_encodings = tokenizer(test_texts, truncation = True, padding = True)"
      ]
    },
    {
      "cell_type": "code",
      "execution_count": 16,
      "metadata": {
        "id": "rYbWy0KBkXqg"
      },
      "outputs": [],
      "source": [
        "train_dataset = tf.data.Dataset.from_tensor_slices((\n",
        "    dict(train_encodings),\n",
        "    train_labels\n",
        "))\n",
        "\n",
        "\n",
        "test_dataset = tf.data.Dataset.from_tensor_slices((\n",
        "    dict(test_encodings),\n",
        "    test_labels\n",
        "))"
      ]
    },
    {
      "cell_type": "code",
      "execution_count": 17,
      "metadata": {
        "id": "byAMNC2NkXvQ",
        "colab": {
          "base_uri": "https://localhost:8080/",
          "height": 77,
          "referenced_widgets": [
            "b610604d2a6f487184155e53c2f574f3",
            "aef269ddbd3c4dc1b1fa8d0c4613ce82",
            "d8d339acc7194d0789a52f6422c6f080",
            "4fa4df41891d4bcaa1c99050996d18f1",
            "8619d517cf964d519b2c079bd377b779",
            "a1d68a6d5b9c45fbadcdfa7767143121",
            "7ca499148ee346aeb4959391283cc9ca",
            "3ecb7534536540e8945683505b8821d9",
            "3e8d32e5bf4e4575865d0d7d59fb2d6a",
            "f3f7e2384be741abb50ec6b4e1d304b9",
            "457747bd1c2d4d2d90ab1a00c704987a"
          ]
        },
        "outputId": "bd1d6d6b-af9a-4589-984f-661e563c88bf"
      },
      "outputs": [
        {
          "output_type": "display_data",
          "data": {
            "text/plain": [
              "Downloading model.safetensors:   0%|          | 0.00/1.12G [00:00<?, ?B/s]"
            ],
            "application/vnd.jupyter.widget-view+json": {
              "version_major": 2,
              "version_minor": 0,
              "model_id": "b610604d2a6f487184155e53c2f574f3"
            }
          },
          "metadata": {}
        }
      ],
      "source": [
        "from transformers import AutoTokenizer, XLMRobertaModel\n",
        "model = XLMRobertaModel.from_pretrained(\"xlm-roberta-base\",num_labels=9)"
      ]
    },
    {
      "cell_type": "code",
      "execution_count": 18,
      "metadata": {
        "id": "NV05gnrPnitw",
        "colab": {
          "base_uri": "https://localhost:8080/"
        },
        "outputId": "77d637c4-5a0f-495d-be0d-ad2038de5426"
      },
      "outputs": [
        {
          "output_type": "stream",
          "name": "stdout",
          "text": [
            "Epoch 1/20\n",
            "257/257 [==============================] - 33s 124ms/step - loss: 2.1377 - accuracy: 0.1773\n",
            "Epoch 2/20\n",
            "257/257 [==============================] - 27s 107ms/step - loss: 2.0932 - accuracy: 0.2393\n",
            "Epoch 3/20\n",
            "257/257 [==============================] - 29s 113ms/step - loss: 2.0642 - accuracy: 0.2695\n",
            "Epoch 4/20\n",
            "257/257 [==============================] - 29s 114ms/step - loss: 2.0327 - accuracy: 0.2712\n",
            "Epoch 5/20\n",
            "257/257 [==============================] - 28s 109ms/step - loss: 1.9991 - accuracy: 0.2687\n",
            "Epoch 6/20\n",
            "257/257 [==============================] - 28s 110ms/step - loss: 1.9622 - accuracy: 0.2744\n",
            "Epoch 7/20\n",
            "257/257 [==============================] - 28s 108ms/step - loss: 1.9186 - accuracy: 0.3158\n",
            "Epoch 8/20\n",
            "257/257 [==============================] - 32s 125ms/step - loss: 1.8636 - accuracy: 0.3957\n",
            "Epoch 9/20\n",
            "257/257 [==============================] - 28s 108ms/step - loss: 1.7940 - accuracy: 0.4818\n",
            "Epoch 10/20\n",
            "257/257 [==============================] - 29s 111ms/step - loss: 1.7088 - accuracy: 0.5639\n",
            "Epoch 11/20\n",
            "257/257 [==============================] - 28s 109ms/step - loss: 1.6094 - accuracy: 0.6250\n",
            "Epoch 12/20\n",
            "257/257 [==============================] - 28s 109ms/step - loss: 1.5015 - accuracy: 0.6752\n",
            "Epoch 13/20\n",
            "257/257 [==============================] - 28s 109ms/step - loss: 1.3918 - accuracy: 0.7231\n",
            "Epoch 14/20\n",
            "257/257 [==============================] - 28s 108ms/step - loss: 1.2857 - accuracy: 0.7603\n",
            "Epoch 15/20\n",
            "257/257 [==============================] - 29s 111ms/step - loss: 1.1855 - accuracy: 0.7892\n",
            "Epoch 16/20\n",
            "257/257 [==============================] - 30s 117ms/step - loss: 1.0921 - accuracy: 0.8150\n",
            "Epoch 17/20\n",
            "257/257 [==============================] - 28s 111ms/step - loss: 1.0048 - accuracy: 0.8428\n",
            "Epoch 18/20\n",
            "257/257 [==============================] - 28s 110ms/step - loss: 0.9243 - accuracy: 0.8581\n",
            "Epoch 19/20\n",
            "257/257 [==============================] - 28s 110ms/step - loss: 0.8499 - accuracy: 0.8809\n",
            "Epoch 20/20\n",
            "257/257 [==============================] - 29s 112ms/step - loss: 0.7813 - accuracy: 0.8893\n"
          ]
        },
        {
          "output_type": "execute_result",
          "data": {
            "text/plain": [
              "<keras.src.callbacks.History at 0x7dbd682e19c0>"
            ]
          },
          "metadata": {},
          "execution_count": 18
        }
      ],
      "source": [
        "max_len = 512   #max_length (int, optional, defaults to 20) — Maximum length that will be used by default in the generate method of the model.\n",
        "\n",
        "\n",
        "model = tf.keras.Sequential([\n",
        "    tf.keras.layers.Masking(mask_value=0, input_shape=(max_len,)),\n",
        "    tf.keras.layers.Embedding(input_dim=tokenizer.vocab_size, output_dim=32, input_length=max_len),\n",
        "    tf.keras.layers.Flatten(),\n",
        "    tf.keras.layers.Dense(9, activation='softmax')\n",
        "])\n",
        "\n",
        "optimizer = tf.keras.optimizers.Adam(learning_rate=5e-5)\n",
        "loss = tf.keras.losses.CategoricalCrossentropy()\n",
        "model.compile(optimizer=optimizer, loss=loss, metrics=['accuracy'])\n",
        "\n",
        "train_sequences = [tokenizer.encode(text, max_length=max_len, truncation=True) for text in train_texts]\n",
        "train_sequences_padded = tf.keras.preprocessing.sequence.pad_sequences(train_sequences, maxlen=max_len, padding='post')\n",
        "\n",
        "train_labels_onehot = tf.keras.utils.to_categorical(train_labels, num_classes=9)\n",
        "\n",
        "model.fit(train_sequences_padded, train_labels_onehot, epochs=20, batch_size=32)"
      ]
    },
    {
      "cell_type": "code",
      "execution_count": 19,
      "metadata": {
        "colab": {
          "base_uri": "https://localhost:8080/",
          "height": 267
        },
        "id": "pDi1AahqpOMW",
        "outputId": "e58b42a7-bd75-404a-d00b-84ee5574b294"
      },
      "outputs": [
        {
          "data": {
            "application/vnd.google.colaboratory.intrinsic+json": {
              "type": "string"
            },
            "text/plain": [
              "'Kolumnist Bag rechnet, dass es regierungskritische Zeitung in wenigen Wochen nicht mehr geben wird. Ankara/Berlin/Wien – Als einen Akt des staatlichen Terrors bezeichnet Süleyman Bag die Zwangsübernahme der türkischen Tageszeitung Zaman und der Nachrichtenagentur Cihan durch die konservativ-islamische Regierung von Staatspräsident Recep Tayyip Erdogan. Der Chefredakteur der deutsch-türkischen Plattform DTJ-Online, Zaman-Kolumnist und frühere Chefredakteur von Zaman Deutschland war am Montag auf Besuch in Wien. Am 4. März, kurz vor Mitternacht, stürmte die türkische Polizei das Gebäude von Zaman, ging mit Wasserwerfern, Tränengas und Platzpatronen gegen friedliche Demonstranten vor. Mit der feindlichen Übernahme hat die Pressefreiheit in der Türkei einen neuen Tiefpunkt erreicht, kommentiert Bag die Ereignisse, durch die die regierungskritischen Medien ausgeschaltet wurden. Druck auf Journalisten werde unter Erdogan systematisch ausgeübt, sagt Bag. Wie jetzt mit Zaman und Cihan verfuhr Erdogan mit der regierungskritischen Ipek-Holding. Es ist damit zu rechnen, dass es Zaman in wenigen Wochen nicht mehr gibt, warnt Bag. Die Auflage der einst größten Zeitung des Landes schrumpfte von 650.000 auf 18.000 Exemplare. Zaman-Chefredakteur Abdülhamit Bilici stehe unter Beobachtung und sei mit Repressalien konfrontiert, berichtet Bag. Wie in Deutschland gibt es auch in Österreich eine Niederlassung von Zaman. In Wien produziert Bilal Baltaci mit zwei weiteren Redakteuren eine Wochenzeitung. Wie in der Türkei werde jetzt in Deutschland und in Österreich Druck auf Werbekunden ausgeübt: Kunden haben Angst zu schalten, sagt Baltaci. Vertriebspartner würden falsch informiert. Das deutsche Büro zählt 23 Redakteure und produzierte bis vor der Übernahme 30.000 Stück, jetzt nur noch 14.000. In Wien habe sich die Auflage von 5000 Stück ebenso halbiert, sagt Baltaci. Gleichzeitig erstarken Gegenbewegungen: Die Kollegen haben nicht aufgegeben, sagt Bag. Es werde eine neue Zeitung produziert mit einer starken Auflage von 200.000 Exemplaren. Selbstkritik übt Bag an seiner Zeitung, weil bei Protesten im Gezi-Park 2013 gegen Demonstranten geschrieben wurde: Wir haben die Lage falsch eingeschätzt. Von den Anschlägen in Ankara vom Sonntag distanziert er sich: Wir alle verurteilen diese Handlungen, egal wer der Attentäter ist. Den EU-Deal mit der Türkei sieht er als problematisch, weil die Auseinandersetzung unabhängig von Werten geführt werde, für die die EU stehe.'"
            ]
          },
          "execution_count": 19,
          "metadata": {},
          "output_type": "execute_result"
        }
      ],
      "source": [
        "test_text = test_texts[7]\n",
        "test_text"
      ]
    },
    {
      "cell_type": "code",
      "execution_count": 20,
      "metadata": {
        "colab": {
          "base_uri": "https://localhost:8080/"
        },
        "id": "bR-2FUpupOwD",
        "outputId": "ca10638e-fe3e-435a-8301-abfb9d91b901"
      },
      "outputs": [
        {
          "output_type": "execute_result",
          "data": {
            "text/plain": [
              "2"
            ]
          },
          "metadata": {},
          "execution_count": 20
        }
      ],
      "source": [
        "predict_input = [tokenizer.encode(text, max_length=max_len, truncation=True) for text in [test_text]]\n",
        "predict_input_padded = tf.keras.preprocessing.sequence.pad_sequences(predict_input, maxlen=max_len, padding='post')\n",
        "output = model(predict_input_padded)[0]\n",
        "prediction_value = tf.argmax(output, axis=-1).numpy()\n",
        "prediction_value\n"
      ]
    },
    {
      "cell_type": "code",
      "execution_count": 21,
      "metadata": {
        "colab": {
          "base_uri": "https://localhost:8080/"
        },
        "id": "wqY8m-QrpO1p",
        "outputId": "46d6ea6c-8326-490e-f36e-0492c40ccce9"
      },
      "outputs": [
        {
          "output_type": "stream",
          "name": "stdout",
          "text": [
            "65/65 [==============================] - 0s 3ms/step\n"
          ]
        }
      ],
      "source": [
        "\n",
        "# Prepare test data\n",
        "test_sequences = [tokenizer.encode(text, max_length=max_len, truncation=True) for text in test_texts]\n",
        "test_sequences_padded = tf.keras.preprocessing.sequence.pad_sequences(test_sequences, maxlen=max_len, padding='post')\n",
        "test_labels_onehot = tf.keras.utils.to_categorical(test_labels, num_classes=9)\n",
        "\n",
        "# Make predictions on test data\n",
        "y_pred = model.predict(test_sequences_padded)\n",
        "y_pred = np.argmax(y_pred, axis=1)\n",
        "\n"
      ]
    },
    {
      "cell_type": "code",
      "execution_count": 22,
      "metadata": {
        "colab": {
          "base_uri": "https://localhost:8080/",
          "height": 887
        },
        "id": "V7qMejjQ95iH",
        "outputId": "91cb28b5-191e-4829-c412-88df4b1958c8"
      },
      "outputs": [
        {
          "output_type": "stream",
          "name": "stdout",
          "text": [
            "[[ 21   8   9   6  16   8  52  11   3]\n",
            " [  3  98   6   0  60   1  11  23   1]\n",
            " [  0   5 237   1  41   0   3  16   0]\n",
            " [  8   4   6  30  13   8  31   5   3]\n",
            " [  0  22  41   2 235   2  14  19   1]\n",
            " [  0   0   1   0   6 229   3   2   0]\n",
            " [  2   0   8   2  10   1 295  18   0]\n",
            " [  2   6  13   0  32   2  33 195   0]\n",
            " [  4   5  10   6  17   0  27   8  38]]\n",
            "Accuracy: 66.926\n",
            "Classification report:\n",
            "              precision    recall  f1-score   support\n",
            "\n",
            "           0      0.525     0.157     0.241       134\n",
            "           1      0.662     0.483     0.558       203\n",
            "           2      0.716     0.782     0.748       303\n",
            "           3      0.638     0.278     0.387       108\n",
            "           4      0.547     0.699     0.614       336\n",
            "           5      0.912     0.950     0.931       241\n",
            "           6      0.629     0.878     0.733       336\n",
            "           7      0.657     0.689     0.672       283\n",
            "           8      0.826     0.330     0.472       115\n",
            "\n",
            "    accuracy                          0.669      2059\n",
            "   macro avg      0.679     0.583     0.595      2059\n",
            "weighted avg      0.673     0.669     0.649      2059\n",
            "\n"
          ]
        },
        {
          "output_type": "execute_result",
          "data": {
            "text/plain": [
              "Text(20.72222222222222, 0.5, 'Predicted value')"
            ]
          },
          "metadata": {},
          "execution_count": 22
        },
        {
          "output_type": "display_data",
          "data": {
            "text/plain": [
              "<Figure size 400x400 with 2 Axes>"
            ],
            "image/png": "[encoded data removed]"
          },
          "metadata": {}
        }
      ],
      "source": [
        "#Confusion Matrix\n",
        "from sklearn.metrics import confusion_matrix, ConfusionMatrixDisplay\n",
        "matrix = confusion_matrix(test_labels, y_pred)\n",
        "print(matrix)\n",
        "\n",
        "# Calculate metrics\n",
        "accuracy = np.mean(y_pred == test_labels)\n",
        "accuracy= accuracy*100\n",
        "report = classification_report(test_labels, y_pred, digits=3)\n",
        "\n",
        "print(f\"Accuracy: {accuracy:.3f}\")\n",
        "print(f\"Classification report:\\n{report}\")\n",
        "\n",
        "\n",
        "# Heat Map\n",
        "plt.figure(figsize=(4,4))\n",
        "ax = sns.heatmap(matrix, annot=True, fmt=\"d\", cmap=\"Greens\")\n",
        "plt.xlabel('Actual value')\n",
        "plt.ylabel('Predicted value')\n"
      ]
    }
  ],
  "metadata": {
    "colab": {
      "provenance": []
    },
    "kernelspec": {
      "display_name": "Python 3",
      "name": "python3"
    },
    "language_info": {
      "name": "python"
    },
    "widgets": {
      "application/vnd.jupyter.widget-state+json": {
        "e14a4268e02d427393cacb65d5b3df92": {
          "model_module": "@jupyter-widgets/controls",
          "model_name": "HBoxModel",
          "model_module_version": "1.5.0",
          "state": {
            "_dom_classes": [],
            "_model_module": "@jupyter-widgets/controls",
            "_model_module_version": "1.5.0",
            "_model_name": "HBoxModel",
            "_view_count": null,
            "_view_module": "@jupyter-widgets/controls",
            "_view_module_version": "1.5.0",
            "_view_name": "HBoxView",
            "box_style": "",
            "children": [
              "IPY_MODEL_1001a6f5d7944a74926fe0eabf636301",
              "IPY_MODEL_35f491dae5204178b2559acb59c421d9",
              "IPY_MODEL_a47dd52f938a46088fa3c97c94c5908e"
            ],
            "layout": "IPY_MODEL_955351192c244574b403bbef28d2987d"
          }
        },
        "1001a6f5d7944a74926fe0eabf636301": {
          "model_module": "@jupyter-widgets/controls",
          "model_name": "HTMLModel",
          "model_module_version": "1.5.0",
          "state": {
            "_dom_classes": [],
            "_model_module": "@jupyter-widgets/controls",
            "_model_module_version": "1.5.0",
            "_model_name": "HTMLModel",
            "_view_count": null,
            "_view_module": "@jupyter-widgets/controls",
            "_view_module_version": "1.5.0",
            "_view_name": "HTMLView",
            "description": "",
            "description_tooltip": null,
            "layout": "IPY_MODEL_61deabff66264247b371733135527866",
            "placeholder": "​",
            "style": "IPY_MODEL_ca97f42901a54f85bf56772558b78887",
            "value": "Downloading (…)tencepiece.bpe.model: 100%"
          }
        },
        "35f491dae5204178b2559acb59c421d9": {
          "model_module": "@jupyter-widgets/controls",
          "model_name": "FloatProgressModel",
          "model_module_version": "1.5.0",
          "state": {
            "_dom_classes": [],
            "_model_module": "@jupyter-widgets/controls",
            "_model_module_version": "1.5.0",
            "_model_name": "FloatProgressModel",
            "_view_count": null,
            "_view_module": "@jupyter-widgets/controls",
            "_view_module_version": "1.5.0",
            "_view_name": "ProgressView",
            "bar_style": "success",
            "description": "",
            "description_tooltip": null,
            "layout": "IPY_MODEL_920d30302f9b48f28b6b01ba9b27fab6",
            "max": 5069051,
            "min": 0,
            "orientation": "horizontal",
            "style": "IPY_MODEL_8c20f96955d84376b2f86d0c729b006a",
            "value": 5069051
          }
        },
        "a47dd52f938a46088fa3c97c94c5908e": {
          "model_module": "@jupyter-widgets/controls",
          "model_name": "HTMLModel",
          "model_module_version": "1.5.0",
          "state": {
            "_dom_classes": [],
            "_model_module": "@jupyter-widgets/controls",
            "_model_module_version": "1.5.0",
            "_model_name": "HTMLModel",
            "_view_count": null,
            "_view_module": "@jupyter-widgets/controls",
            "_view_module_version": "1.5.0",
            "_view_name": "HTMLView",
            "description": "",
            "description_tooltip": null,
            "layout": "IPY_MODEL_6d3a7c81a1d04216b46c149890258895",
            "placeholder": "​",
            "style": "IPY_MODEL_fb6d92a9e8034e79a58e896bd4fe3ee8",
            "value": " 5.07M/5.07M [00:00&lt;00:00, 12.1MB/s]"
          }
        },
        "955351192c244574b403bbef28d2987d": {
          "model_module": "@jupyter-widgets/base",
          "model_name": "LayoutModel",
          "model_module_version": "1.2.0",
          "state": {
            "_model_module": "@jupyter-widgets/base",
            "_model_module_version": "1.2.0",
            "_model_name": "LayoutModel",
            "_view_count": null,
            "_view_module": "@jupyter-widgets/base",
            "_view_module_version": "1.2.0",
            "_view_name": "LayoutView",
            "align_content": null,
            "align_items": null,
            "align_self": null,
            "border": null,
            "bottom": null,
            "display": null,
            "flex": null,
            "flex_flow": null,
            "grid_area": null,
            "grid_auto_columns": null,
            "grid_auto_flow": null,
            "grid_auto_rows": null,
            "grid_column": null,
            "grid_gap": null,
            "grid_row": null,
            "grid_template_areas": null,
            "grid_template_columns": null,
            "grid_template_rows": null,
            "height": null,
            "justify_content": null,
            "justify_items": null,
            "left": null,
            "margin": null,
            "max_height": null,
            "max_width": null,
            "min_height": null,
            "min_width": null,
            "object_fit": null,
            "object_position": null,
            "order": null,
            "overflow": null,
            "overflow_x": null,
            "overflow_y": null,
            "padding": null,
            "right": null,
            "top": null,
            "visibility": null,
            "width": null
          }
        },
        "61deabff66264247b371733135527866": {
          "model_module": "@jupyter-widgets/base",
          "model_name": "LayoutModel",
          "model_module_version": "1.2.0",
          "state": {
            "_model_module": "@jupyter-widgets/base",
            "_model_module_version": "1.2.0",
            "_model_name": "LayoutModel",
            "_view_count": null,
            "_view_module": "@jupyter-widgets/base",
            "_view_module_version": "1.2.0",
            "_view_name": "LayoutView",
            "align_content": null,
            "align_items": null,
            "align_self": null,
            "border": null,
            "bottom": null,
            "display": null,
            "flex": null,
            "flex_flow": null,
            "grid_area": null,
            "grid_auto_columns": null,
            "grid_auto_flow": null,
            "grid_auto_rows": null,
            "grid_column": null,
            "grid_gap": null,
            "grid_row": null,
            "grid_template_areas": null,
            "grid_template_columns": null,
            "grid_template_rows": null,
            "height": null,
            "justify_content": null,
            "justify_items": null,
            "left": null,
            "margin": null,
            "max_height": null,
            "max_width": null,
            "min_height": null,
            "min_width": null,
            "object_fit": null,
            "object_position": null,
            "order": null,
            "overflow": null,
            "overflow_x": null,
            "overflow_y": null,
            "padding": null,
            "right": null,
            "top": null,
            "visibility": null,
            "width": null
          }
        },
        "ca97f42901a54f85bf56772558b78887": {
          "model_module": "@jupyter-widgets/controls",
          "model_name": "DescriptionStyleModel",
          "model_module_version": "1.5.0",
          "state": {
            "_model_module": "@jupyter-widgets/controls",
            "_model_module_version": "1.5.0",
            "_model_name": "DescriptionStyleModel",
            "_view_count": null,
            "_view_module": "@jupyter-widgets/base",
            "_view_module_version": "1.2.0",
            "_view_name": "StyleView",
            "description_width": ""
          }
        },
        "920d30302f9b48f28b6b01ba9b27fab6": {
          "model_module": "@jupyter-widgets/base",
          "model_name": "LayoutModel",
          "model_module_version": "1.2.0",
          "state": {
            "_model_module": "@jupyter-widgets/base",
            "_model_module_version": "1.2.0",
            "_model_name": "LayoutModel",
            "_view_count": null,
            "_view_module": "@jupyter-widgets/base",
            "_view_module_version": "1.2.0",
            "_view_name": "LayoutView",
            "align_content": null,
            "align_items": null,
            "align_self": null,
            "border": null,
            "bottom": null,
            "display": null,
            "flex": null,
            "flex_flow": null,
            "grid_area": null,
            "grid_auto_columns": null,
            "grid_auto_flow": null,
            "grid_auto_rows": null,
            "grid_column": null,
            "grid_gap": null,
            "grid_row": null,
            "grid_template_areas": null,
            "grid_template_columns": null,
            "grid_template_rows": null,
            "height": null,
            "justify_content": null,
            "justify_items": null,
            "left": null,
            "margin": null,
            "max_height": null,
            "max_width": null,
            "min_height": null,
            "min_width": null,
            "object_fit": null,
            "object_position": null,
            "order": null,
            "overflow": null,
            "overflow_x": null,
            "overflow_y": null,
            "padding": null,
            "right": null,
            "top": null,
            "visibility": null,
            "width": null
          }
        },
        "8c20f96955d84376b2f86d0c729b006a": {
          "model_module": "@jupyter-widgets/controls",
          "model_name": "ProgressStyleModel",
          "model_module_version": "1.5.0",
          "state": {
            "_model_module": "@jupyter-widgets/controls",
            "_model_module_version": "1.5.0",
            "_model_name": "ProgressStyleModel",
            "_view_count": null,
            "_view_module": "@jupyter-widgets/base",
            "_view_module_version": "1.2.0",
            "_view_name": "StyleView",
            "bar_color": null,
            "description_width": ""
          }
        },
        "6d3a7c81a1d04216b46c149890258895": {
          "model_module": "@jupyter-widgets/base",
          "model_name": "LayoutModel",
          "model_module_version": "1.2.0",
          "state": {
            "_model_module": "@jupyter-widgets/base",
            "_model_module_version": "1.2.0",
            "_model_name": "LayoutModel",
            "_view_count": null,
            "_view_module": "@jupyter-widgets/base",
            "_view_module_version": "1.2.0",
            "_view_name": "LayoutView",
            "align_content": null,
            "align_items": null,
            "align_self": null,
            "border": null,
            "bottom": null,
            "display": null,
            "flex": null,
            "flex_flow": null,
            "grid_area": null,
            "grid_auto_columns": null,
            "grid_auto_flow": null,
            "grid_auto_rows": null,
            "grid_column": null,
            "grid_gap": null,
            "grid_row": null,
            "grid_template_areas": null,
            "grid_template_columns": null,
            "grid_template_rows": null,
            "height": null,
            "justify_content": null,
            "justify_items": null,
            "left": null,
            "margin": null,
            "max_height": null,
            "max_width": null,
            "min_height": null,
            "min_width": null,
            "object_fit": null,
            "object_position": null,
            "order": null,
            "overflow": null,
            "overflow_x": null,
            "overflow_y": null,
            "padding": null,
            "right": null,
            "top": null,
            "visibility": null,
            "width": null
          }
        },
        "fb6d92a9e8034e79a58e896bd4fe3ee8": {
          "model_module": "@jupyter-widgets/controls",
          "model_name": "DescriptionStyleModel",
          "model_module_version": "1.5.0",
          "state": {
            "_model_module": "@jupyter-widgets/controls",
            "_model_module_version": "1.5.0",
            "_model_name": "DescriptionStyleModel",
            "_view_count": null,
            "_view_module": "@jupyter-widgets/base",
            "_view_module_version": "1.2.0",
            "_view_name": "StyleView",
            "description_width": ""
          }
        },
        "e9e14bad084547f0a71cc4687cc29ab3": {
          "model_module": "@jupyter-widgets/controls",
          "model_name": "HBoxModel",
          "model_module_version": "1.5.0",
          "state": {
            "_dom_classes": [],
            "_model_module": "@jupyter-widgets/controls",
            "_model_module_version": "1.5.0",
            "_model_name": "HBoxModel",
            "_view_count": null,
            "_view_module": "@jupyter-widgets/controls",
            "_view_module_version": "1.5.0",
            "_view_name": "HBoxView",
            "box_style": "",
            "children": [
              "IPY_MODEL_bb8fc63d8af54314ba2e91866d1add0f",
              "IPY_MODEL_61627095e97b4d6f908e7999511b4694",
              "IPY_MODEL_f6960ea133eb43ca994a5c930207cb09"
            ],
            "layout": "IPY_MODEL_937046fd76c145ba9fb4bfd1d82302a0"
          }
        },
        "bb8fc63d8af54314ba2e91866d1add0f": {
          "model_module": "@jupyter-widgets/controls",
          "model_name": "HTMLModel",
          "model_module_version": "1.5.0",
          "state": {
            "_dom_classes": [],
            "_model_module": "@jupyter-widgets/controls",
            "_model_module_version": "1.5.0",
            "_model_name": "HTMLModel",
            "_view_count": null,
            "_view_module": "@jupyter-widgets/controls",
            "_view_module_version": "1.5.0",
            "_view_name": "HTMLView",
            "description": "",
            "description_tooltip": null,
            "layout": "IPY_MODEL_8cd4e783384b4085bba988aab1fa7948",
            "placeholder": "​",
            "style": "IPY_MODEL_371f7638ef1643d48cebc3e986bfc14f",
            "value": "Downloading (…)/main/tokenizer.json: 100%"
          }
        },
        "61627095e97b4d6f908e7999511b4694": {
          "model_module": "@jupyter-widgets/controls",
          "model_name": "FloatProgressModel",
          "model_module_version": "1.5.0",
          "state": {
            "_dom_classes": [],
            "_model_module": "@jupyter-widgets/controls",
            "_model_module_version": "1.5.0",
            "_model_name": "FloatProgressModel",
            "_view_count": null,
            "_view_module": "@jupyter-widgets/controls",
            "_view_module_version": "1.5.0",
            "_view_name": "ProgressView",
            "bar_style": "success",
            "description": "",
            "description_tooltip": null,
            "layout": "IPY_MODEL_501e5e51318f4a85b2f5bf5d5111502b",
            "max": 9096718,
            "min": 0,
            "orientation": "horizontal",
            "style": "IPY_MODEL_cef68d257dfb4c53be7746233a85b5fa",
            "value": 9096718
          }
        },
        "f6960ea133eb43ca994a5c930207cb09": {
          "model_module": "@jupyter-widgets/controls",
          "model_name": "HTMLModel",
          "model_module_version": "1.5.0",
          "state": {
            "_dom_classes": [],
            "_model_module": "@jupyter-widgets/controls",
            "_model_module_version": "1.5.0",
            "_model_name": "HTMLModel",
            "_view_count": null,
            "_view_module": "@jupyter-widgets/controls",
            "_view_module_version": "1.5.0",
            "_view_name": "HTMLView",
            "description": "",
            "description_tooltip": null,
            "layout": "IPY_MODEL_a46be3811938475fad45d616eaae7054",
            "placeholder": "​",
            "style": "IPY_MODEL_dbf25a8009474cd680e0657784d9a397",
            "value": " 9.10M/9.10M [00:00&lt;00:00, 34.4MB/s]"
          }
        },
        "937046fd76c145ba9fb4bfd1d82302a0": {
          "model_module": "@jupyter-widgets/base",
          "model_name": "LayoutModel",
          "model_module_version": "1.2.0",
          "state": {
            "_model_module": "@jupyter-widgets/base",
            "_model_module_version": "1.2.0",
            "_model_name": "LayoutModel",
            "_view_count": null,
            "_view_module": "@jupyter-widgets/base",
            "_view_module_version": "1.2.0",
            "_view_name": "LayoutView",
            "align_content": null,
            "align_items": null,
            "align_self": null,
            "border": null,
            "bottom": null,
            "display": null,
            "flex": null,
            "flex_flow": null,
            "grid_area": null,
            "grid_auto_columns": null,
            "grid_auto_flow": null,
            "grid_auto_rows": null,
            "grid_column": null,
            "grid_gap": null,
            "grid_row": null,
            "grid_template_areas": null,
            "grid_template_columns": null,
            "grid_template_rows": null,
            "height": null,
            "justify_content": null,
            "justify_items": null,
            "left": null,
            "margin": null,
            "max_height": null,
            "max_width": null,
            "min_height": null,
            "min_width": null,
            "object_fit": null,
            "object_position": null,
            "order": null,
            "overflow": null,
            "overflow_x": null,
            "overflow_y": null,
            "padding": null,
            "right": null,
            "top": null,
            "visibility": null,
            "width": null
          }
        },
        "8cd4e783384b4085bba988aab1fa7948": {
          "model_module": "@jupyter-widgets/base",
          "model_name": "LayoutModel",
          "model_module_version": "1.2.0",
          "state": {
            "_model_module": "@jupyter-widgets/base",
            "_model_module_version": "1.2.0",
            "_model_name": "LayoutModel",
            "_view_count": null,
            "_view_module": "@jupyter-widgets/base",
            "_view_module_version": "1.2.0",
            "_view_name": "LayoutView",
            "align_content": null,
            "align_items": null,
            "align_self": null,
            "border": null,
            "bottom": null,
            "display": null,
            "flex": null,
            "flex_flow": null,
            "grid_area": null,
            "grid_auto_columns": null,
            "grid_auto_flow": null,
            "grid_auto_rows": null,
            "grid_column": null,
            "grid_gap": null,
            "grid_row": null,
            "grid_template_areas": null,
            "grid_template_columns": null,
            "grid_template_rows": null,
            "height": null,
            "justify_content": null,
            "justify_items": null,
            "left": null,
            "margin": null,
            "max_height": null,
            "max_width": null,
            "min_height": null,
            "min_width": null,
            "object_fit": null,
            "object_position": null,
            "order": null,
            "overflow": null,
            "overflow_x": null,
            "overflow_y": null,
            "padding": null,
            "right": null,
            "top": null,
            "visibility": null,
            "width": null
          }
        },
        "371f7638ef1643d48cebc3e986bfc14f": {
          "model_module": "@jupyter-widgets/controls",
          "model_name": "DescriptionStyleModel",
          "model_module_version": "1.5.0",
          "state": {
            "_model_module": "@jupyter-widgets/controls",
            "_model_module_version": "1.5.0",
            "_model_name": "DescriptionStyleModel",
            "_view_count": null,
            "_view_module": "@jupyter-widgets/base",
            "_view_module_version": "1.2.0",
            "_view_name": "StyleView",
            "description_width": ""
          }
        },
        "501e5e51318f4a85b2f5bf5d5111502b": {
          "model_module": "@jupyter-widgets/base",
          "model_name": "LayoutModel",
          "model_module_version": "1.2.0",
          "state": {
            "_model_module": "@jupyter-widgets/base",
            "_model_module_version": "1.2.0",
            "_model_name": "LayoutModel",
            "_view_count": null,
            "_view_module": "@jupyter-widgets/base",
            "_view_module_version": "1.2.0",
            "_view_name": "LayoutView",
            "align_content": null,
            "align_items": null,
            "align_self": null,
            "border": null,
            "bottom": null,
            "display": null,
            "flex": null,
            "flex_flow": null,
            "grid_area": null,
            "grid_auto_columns": null,
            "grid_auto_flow": null,
            "grid_auto_rows": null,
            "grid_column": null,
            "grid_gap": null,
            "grid_row": null,
            "grid_template_areas": null,
            "grid_template_columns": null,
            "grid_template_rows": null,
            "height": null,
            "justify_content": null,
            "justify_items": null,
            "left": null,
            "margin": null,
            "max_height": null,
            "max_width": null,
            "min_height": null,
            "min_width": null,
            "object_fit": null,
            "object_position": null,
            "order": null,
            "overflow": null,
            "overflow_x": null,
            "overflow_y": null,
            "padding": null,
            "right": null,
            "top": null,
            "visibility": null,
            "width": null
          }
        },
        "cef68d257dfb4c53be7746233a85b5fa": {
          "model_module": "@jupyter-widgets/controls",
          "model_name": "ProgressStyleModel",
          "model_module_version": "1.5.0",
          "state": {
            "_model_module": "@jupyter-widgets/controls",
            "_model_module_version": "1.5.0",
            "_model_name": "ProgressStyleModel",
            "_view_count": null,
            "_view_module": "@jupyter-widgets/base",
            "_view_module_version": "1.2.0",
            "_view_name": "StyleView",
            "bar_color": null,
            "description_width": ""
          }
        },
        "a46be3811938475fad45d616eaae7054": {
          "model_module": "@jupyter-widgets/base",
          "model_name": "LayoutModel",
          "model_module_version": "1.2.0",
          "state": {
            "_model_module": "@jupyter-widgets/base",
            "_model_module_version": "1.2.0",
            "_model_name": "LayoutModel",
            "_view_count": null,
            "_view_module": "@jupyter-widgets/base",
            "_view_module_version": "1.2.0",
            "_view_name": "LayoutView",
            "align_content": null,
            "align_items": null,
            "align_self": null,
            "border": null,
            "bottom": null,
            "display": null,
            "flex": null,
            "flex_flow": null,
            "grid_area": null,
            "grid_auto_columns": null,
            "grid_auto_flow": null,
            "grid_auto_rows": null,
            "grid_column": null,
            "grid_gap": null,
            "grid_row": null,
            "grid_template_areas": null,
            "grid_template_columns": null,
            "grid_template_rows": null,
            "height": null,
            "justify_content": null,
            "justify_items": null,
            "left": null,
            "margin": null,
            "max_height": null,
            "max_width": null,
            "min_height": null,
            "min_width": null,
            "object_fit": null,
            "object_position": null,
            "order": null,
            "overflow": null,
            "overflow_x": null,
            "overflow_y": null,
            "padding": null,
            "right": null,
            "top": null,
            "visibility": null,
            "width": null
          }
        },
        "dbf25a8009474cd680e0657784d9a397": {
          "model_module": "@jupyter-widgets/controls",
          "model_name": "DescriptionStyleModel",
          "model_module_version": "1.5.0",
          "state": {
            "_model_module": "@jupyter-widgets/controls",
            "_model_module_version": "1.5.0",
            "_model_name": "DescriptionStyleModel",
            "_view_count": null,
            "_view_module": "@jupyter-widgets/base",
            "_view_module_version": "1.2.0",
            "_view_name": "StyleView",
            "description_width": ""
          }
        },
        "1bd68749bdcc47dfb17c160d66bcc99d": {
          "model_module": "@jupyter-widgets/controls",
          "model_name": "HBoxModel",
          "model_module_version": "1.5.0",
          "state": {
            "_dom_classes": [],
            "_model_module": "@jupyter-widgets/controls",
            "_model_module_version": "1.5.0",
            "_model_name": "HBoxModel",
            "_view_count": null,
            "_view_module": "@jupyter-widgets/controls",
            "_view_module_version": "1.5.0",
            "_view_name": "HBoxView",
            "box_style": "",
            "children": [
              "IPY_MODEL_9e82551190dd4212b1a303386077de3e",
              "IPY_MODEL_472c80dab3384d83985bc3ca963557a9",
              "IPY_MODEL_23bdde02ae69421e893e38c3babf4857"
            ],
            "layout": "IPY_MODEL_5b1487bb08d249538f4fc6178c9a86bf"
          }
        },
        "9e82551190dd4212b1a303386077de3e": {
          "model_module": "@jupyter-widgets/controls",
          "model_name": "HTMLModel",
          "model_module_version": "1.5.0",
          "state": {
            "_dom_classes": [],
            "_model_module": "@jupyter-widgets/controls",
            "_model_module_version": "1.5.0",
            "_model_name": "HTMLModel",
            "_view_count": null,
            "_view_module": "@jupyter-widgets/controls",
            "_view_module_version": "1.5.0",
            "_view_name": "HTMLView",
            "description": "",
            "description_tooltip": null,
            "layout": "IPY_MODEL_db37ebb05a1c452b9f329cf1d6201ac4",
            "placeholder": "​",
            "style": "IPY_MODEL_97c3b547269e4455b9c9bf81ee9ecf00",
            "value": "Downloading (…)lve/main/config.json: 100%"
          }
        },
        "472c80dab3384d83985bc3ca963557a9": {
          "model_module": "@jupyter-widgets/controls",
          "model_name": "FloatProgressModel",
          "model_module_version": "1.5.0",
          "state": {
            "_dom_classes": [],
            "_model_module": "@jupyter-widgets/controls",
            "_model_module_version": "1.5.0",
            "_model_name": "FloatProgressModel",
            "_view_count": null,
            "_view_module": "@jupyter-widgets/controls",
            "_view_module_version": "1.5.0",
            "_view_name": "ProgressView",
            "bar_style": "success",
            "description": "",
            "description_tooltip": null,
            "layout": "IPY_MODEL_1d993cb626dc4908b9606673117b57cd",
            "max": 615,
            "min": 0,
            "orientation": "horizontal",
            "style": "IPY_MODEL_11c85abd03ab48a8b2c782db48af3e77",
            "value": 615
          }
        },
        "23bdde02ae69421e893e38c3babf4857": {
          "model_module": "@jupyter-widgets/controls",
          "model_name": "HTMLModel",
          "model_module_version": "1.5.0",
          "state": {
            "_dom_classes": [],
            "_model_module": "@jupyter-widgets/controls",
            "_model_module_version": "1.5.0",
            "_model_name": "HTMLModel",
            "_view_count": null,
            "_view_module": "@jupyter-widgets/controls",
            "_view_module_version": "1.5.0",
            "_view_name": "HTMLView",
            "description": "",
            "description_tooltip": null,
            "layout": "IPY_MODEL_474f575b01034a629e4ea8006f16293d",
            "placeholder": "​",
            "style": "IPY_MODEL_de19b902a4494b319f32842f63fdcca2",
            "value": " 615/615 [00:00&lt;00:00, 11.4kB/s]"
          }
        },
        "5b1487bb08d249538f4fc6178c9a86bf": {
          "model_module": "@jupyter-widgets/base",
          "model_name": "LayoutModel",
          "model_module_version": "1.2.0",
          "state": {
            "_model_module": "@jupyter-widgets/base",
            "_model_module_version": "1.2.0",
            "_model_name": "LayoutModel",
            "_view_count": null,
            "_view_module": "@jupyter-widgets/base",
            "_view_module_version": "1.2.0",
            "_view_name": "LayoutView",
            "align_content": null,
            "align_items": null,
            "align_self": null,
            "border": null,
            "bottom": null,
            "display": null,
            "flex": null,
            "flex_flow": null,
            "grid_area": null,
            "grid_auto_columns": null,
            "grid_auto_flow": null,
            "grid_auto_rows": null,
            "grid_column": null,
            "grid_gap": null,
            "grid_row": null,
            "grid_template_areas": null,
            "grid_template_columns": null,
            "grid_template_rows": null,
            "height": null,
            "justify_content": null,
            "justify_items": null,
            "left": null,
            "margin": null,
            "max_height": null,
            "max_width": null,
            "min_height": null,
            "min_width": null,
            "object_fit": null,
            "object_position": null,
            "order": null,
            "overflow": null,
            "overflow_x": null,
            "overflow_y": null,
            "padding": null,
            "right": null,
            "top": null,
            "visibility": null,
            "width": null
          }
        },
        "db37ebb05a1c452b9f329cf1d6201ac4": {
          "model_module": "@jupyter-widgets/base",
          "model_name": "LayoutModel",
          "model_module_version": "1.2.0",
          "state": {
            "_model_module": "@jupyter-widgets/base",
            "_model_module_version": "1.2.0",
            "_model_name": "LayoutModel",
            "_view_count": null,
            "_view_module": "@jupyter-widgets/base",
            "_view_module_version": "1.2.0",
            "_view_name": "LayoutView",
            "align_content": null,
            "align_items": null,
            "align_self": null,
            "border": null,
            "bottom": null,
            "display": null,
            "flex": null,
            "flex_flow": null,
            "grid_area": null,
            "grid_auto_columns": null,
            "grid_auto_flow": null,
            "grid_auto_rows": null,
            "grid_column": null,
            "grid_gap": null,
            "grid_row": null,
            "grid_template_areas": null,
            "grid_template_columns": null,
            "grid_template_rows": null,
            "height": null,
            "justify_content": null,
            "justify_items": null,
            "left": null,
            "margin": null,
            "max_height": null,
            "max_width": null,
            "min_height": null,
            "min_width": null,
            "object_fit": null,
            "object_position": null,
            "order": null,
            "overflow": null,
            "overflow_x": null,
            "overflow_y": null,
            "padding": null,
            "right": null,
            "top": null,
            "visibility": null,
            "width": null
          }
        },
        "97c3b547269e4455b9c9bf81ee9ecf00": {
          "model_module": "@jupyter-widgets/controls",
          "model_name": "DescriptionStyleModel",
          "model_module_version": "1.5.0",
          "state": {
            "_model_module": "@jupyter-widgets/controls",
            "_model_module_version": "1.5.0",
            "_model_name": "DescriptionStyleModel",
            "_view_count": null,
            "_view_module": "@jupyter-widgets/base",
            "_view_module_version": "1.2.0",
            "_view_name": "StyleView",
            "description_width": ""
          }
        },
        "1d993cb626dc4908b9606673117b57cd": {
          "model_module": "@jupyter-widgets/base",
          "model_name": "LayoutModel",
          "model_module_version": "1.2.0",
          "state": {
            "_model_module": "@jupyter-widgets/base",
            "_model_module_version": "1.2.0",
            "_model_name": "LayoutModel",
            "_view_count": null,
            "_view_module": "@jupyter-widgets/base",
            "_view_module_version": "1.2.0",
            "_view_name": "LayoutView",
            "align_content": null,
            "align_items": null,
            "align_self": null,
            "border": null,
            "bottom": null,
            "display": null,
            "flex": null,
            "flex_flow": null,
            "grid_area": null,
            "grid_auto_columns": null,
            "grid_auto_flow": null,
            "grid_auto_rows": null,
            "grid_column": null,
            "grid_gap": null,
            "grid_row": null,
            "grid_template_areas": null,
            "grid_template_columns": null,
            "grid_template_rows": null,
            "height": null,
            "justify_content": null,
            "justify_items": null,
            "left": null,
            "margin": null,
            "max_height": null,
            "max_width": null,
            "min_height": null,
            "min_width": null,
            "object_fit": null,
            "object_position": null,
            "order": null,
            "overflow": null,
            "overflow_x": null,
            "overflow_y": null,
            "padding": null,
            "right": null,
            "top": null,
            "visibility": null,
            "width": null
          }
        },
        "11c85abd03ab48a8b2c782db48af3e77": {
          "model_module": "@jupyter-widgets/controls",
          "model_name": "ProgressStyleModel",
          "model_module_version": "1.5.0",
          "state": {
            "_model_module": "@jupyter-widgets/controls",
            "_model_module_version": "1.5.0",
            "_model_name": "ProgressStyleModel",
            "_view_count": null,
            "_view_module": "@jupyter-widgets/base",
            "_view_module_version": "1.2.0",
            "_view_name": "StyleView",
            "bar_color": null,
            "description_width": ""
          }
        },
        "474f575b01034a629e4ea8006f16293d": {
          "model_module": "@jupyter-widgets/base",
          "model_name": "LayoutModel",
          "model_module_version": "1.2.0",
          "state": {
            "_model_module": "@jupyter-widgets/base",
            "_model_module_version": "1.2.0",
            "_model_name": "LayoutModel",
            "_view_count": null,
            "_view_module": "@jupyter-widgets/base",
            "_view_module_version": "1.2.0",
            "_view_name": "LayoutView",
            "align_content": null,
            "align_items": null,
            "align_self": null,
            "border": null,
            "bottom": null,
            "display": null,
            "flex": null,
            "flex_flow": null,
            "grid_area": null,
            "grid_auto_columns": null,
            "grid_auto_flow": null,
            "grid_auto_rows": null,
            "grid_column": null,
            "grid_gap": null,
            "grid_row": null,
            "grid_template_areas": null,
            "grid_template_columns": null,
            "grid_template_rows": null,
            "height": null,
            "justify_content": null,
            "justify_items": null,
            "left": null,
            "margin": null,
            "max_height": null,
            "max_width": null,
            "min_height": null,
            "min_width": null,
            "object_fit": null,
            "object_position": null,
            "order": null,
            "overflow": null,
            "overflow_x": null,
            "overflow_y": null,
            "padding": null,
            "right": null,
            "top": null,
            "visibility": null,
            "width": null
          }
        },
        "de19b902a4494b319f32842f63fdcca2": {
          "model_module": "@jupyter-widgets/controls",
          "model_name": "DescriptionStyleModel",
          "model_module_version": "1.5.0",
          "state": {
            "_model_module": "@jupyter-widgets/controls",
            "_model_module_version": "1.5.0",
            "_model_name": "DescriptionStyleModel",
            "_view_count": null,
            "_view_module": "@jupyter-widgets/base",
            "_view_module_version": "1.2.0",
            "_view_name": "StyleView",
            "description_width": ""
          }
        },
        "b610604d2a6f487184155e53c2f574f3": {
          "model_module": "@jupyter-widgets/controls",
          "model_name": "HBoxModel",
          "model_module_version": "1.5.0",
          "state": {
            "_dom_classes": [],
            "_model_module": "@jupyter-widgets/controls",
            "_model_module_version": "1.5.0",
            "_model_name": "HBoxModel",
            "_view_count": null,
            "_view_module": "@jupyter-widgets/controls",
            "_view_module_version": "1.5.0",
            "_view_name": "HBoxView",
            "box_style": "",
            "children": [
              "IPY_MODEL_aef269ddbd3c4dc1b1fa8d0c4613ce82",
              "IPY_MODEL_d8d339acc7194d0789a52f6422c6f080",
              "IPY_MODEL_4fa4df41891d4bcaa1c99050996d18f1"
            ],
            "layout": "IPY_MODEL_8619d517cf964d519b2c079bd377b779"
          }
        },
        "aef269ddbd3c4dc1b1fa8d0c4613ce82": {
          "model_module": "@jupyter-widgets/controls",
          "model_name": "HTMLModel",
          "model_module_version": "1.5.0",
          "state": {
            "_dom_classes": [],
            "_model_module": "@jupyter-widgets/controls",
            "_model_module_version": "1.5.0",
            "_model_name": "HTMLModel",
            "_view_count": null,
            "_view_module": "@jupyter-widgets/controls",
            "_view_module_version": "1.5.0",
            "_view_name": "HTMLView",
            "description": "",
            "description_tooltip": null,
            "layout": "IPY_MODEL_a1d68a6d5b9c45fbadcdfa7767143121",
            "placeholder": "​",
            "style": "IPY_MODEL_7ca499148ee346aeb4959391283cc9ca",
            "value": "Downloading model.safetensors: 100%"
          }
        },
        "d8d339acc7194d0789a52f6422c6f080": {
          "model_module": "@jupyter-widgets/controls",
          "model_name": "FloatProgressModel",
          "model_module_version": "1.5.0",
          "state": {
            "_dom_classes": [],
            "_model_module": "@jupyter-widgets/controls",
            "_model_module_version": "1.5.0",
            "_model_name": "FloatProgressModel",
            "_view_count": null,
            "_view_module": "@jupyter-widgets/controls",
            "_view_module_version": "1.5.0",
            "_view_name": "ProgressView",
            "bar_style": "success",
            "description": "",
            "description_tooltip": null,
            "layout": "IPY_MODEL_3ecb7534536540e8945683505b8821d9",
            "max": 1115567652,
            "min": 0,
            "orientation": "horizontal",
            "style": "IPY_MODEL_3e8d32e5bf4e4575865d0d7d59fb2d6a",
            "value": 1115567652
          }
        },
        "4fa4df41891d4bcaa1c99050996d18f1": {
          "model_module": "@jupyter-widgets/controls",
          "model_name": "HTMLModel",
          "model_module_version": "1.5.0",
          "state": {
            "_dom_classes": [],
            "_model_module": "@jupyter-widgets/controls",
            "_model_module_version": "1.5.0",
            "_model_name": "HTMLModel",
            "_view_count": null,
            "_view_module": "@jupyter-widgets/controls",
            "_view_module_version": "1.5.0",
            "_view_name": "HTMLView",
            "description": "",
            "description_tooltip": null,
            "layout": "IPY_MODEL_f3f7e2384be741abb50ec6b4e1d304b9",
            "placeholder": "​",
            "style": "IPY_MODEL_457747bd1c2d4d2d90ab1a00c704987a",
            "value": " 1.12G/1.12G [00:06&lt;00:00, 248MB/s]"
          }
        },
        "8619d517cf964d519b2c079bd377b779": {
          "model_module": "@jupyter-widgets/base",
          "model_name": "LayoutModel",
          "model_module_version": "1.2.0",
          "state": {
            "_model_module": "@jupyter-widgets/base",
            "_model_module_version": "1.2.0",
            "_model_name": "LayoutModel",
            "_view_count": null,
            "_view_module": "@jupyter-widgets/base",
            "_view_module_version": "1.2.0",
            "_view_name": "LayoutView",
            "align_content": null,
            "align_items": null,
            "align_self": null,
            "border": null,
            "bottom": null,
            "display": null,
            "flex": null,
            "flex_flow": null,
            "grid_area": null,
            "grid_auto_columns": null,
            "grid_auto_flow": null,
            "grid_auto_rows": null,
            "grid_column": null,
            "grid_gap": null,
            "grid_row": null,
            "grid_template_areas": null,
            "grid_template_columns": null,
            "grid_template_rows": null,
            "height": null,
            "justify_content": null,
            "justify_items": null,
            "left": null,
            "margin": null,
            "max_height": null,
            "max_width": null,
            "min_height": null,
            "min_width": null,
            "object_fit": null,
            "object_position": null,
            "order": null,
            "overflow": null,
            "overflow_x": null,
            "overflow_y": null,
            "padding": null,
            "right": null,
            "top": null,
            "visibility": null,
            "width": null
          }
        },
        "a1d68a6d5b9c45fbadcdfa7767143121": {
          "model_module": "@jupyter-widgets/base",
          "model_name": "LayoutModel",
          "model_module_version": "1.2.0",
          "state": {
            "_model_module": "@jupyter-widgets/base",
            "_model_module_version": "1.2.0",
            "_model_name": "LayoutModel",
            "_view_count": null,
            "_view_module": "@jupyter-widgets/base",
            "_view_module_version": "1.2.0",
            "_view_name": "LayoutView",
            "align_content": null,
            "align_items": null,
            "align_self": null,
            "border": null,
            "bottom": null,
            "display": null,
            "flex": null,
            "flex_flow": null,
            "grid_area": null,
            "grid_auto_columns": null,
            "grid_auto_flow": null,
            "grid_auto_rows": null,
            "grid_column": null,
            "grid_gap": null,
            "grid_row": null,
            "grid_template_areas": null,
            "grid_template_columns": null,
            "grid_template_rows": null,
            "height": null,
            "justify_content": null,
            "justify_items": null,
            "left": null,
            "margin": null,
            "max_height": null,
            "max_width": null,
            "min_height": null,
            "min_width": null,
            "object_fit": null,
            "object_position": null,
            "order": null,
            "overflow": null,
            "overflow_x": null,
            "overflow_y": null,
            "padding": null,
            "right": null,
            "top": null,
            "visibility": null,
            "width": null
          }
        },
        "7ca499148ee346aeb4959391283cc9ca": {
          "model_module": "@jupyter-widgets/controls",
          "model_name": "DescriptionStyleModel",
          "model_module_version": "1.5.0",
          "state": {
            "_model_module": "@jupyter-widgets/controls",
            "_model_module_version": "1.5.0",
            "_model_name": "DescriptionStyleModel",
            "_view_count": null,
            "_view_module": "@jupyter-widgets/base",
            "_view_module_version": "1.2.0",
            "_view_name": "StyleView",
            "description_width": ""
          }
        },
        "3ecb7534536540e8945683505b8821d9": {
          "model_module": "@jupyter-widgets/base",
          "model_name": "LayoutModel",
          "model_module_version": "1.2.0",
          "state": {
            "_model_module": "@jupyter-widgets/base",
            "_model_module_version": "1.2.0",
            "_model_name": "LayoutModel",
            "_view_count": null,
            "_view_module": "@jupyter-widgets/base",
            "_view_module_version": "1.2.0",
            "_view_name": "LayoutView",
            "align_content": null,
            "align_items": null,
            "align_self": null,
            "border": null,
            "bottom": null,
            "display": null,
            "flex": null,
            "flex_flow": null,
            "grid_area": null,
            "grid_auto_columns": null,
            "grid_auto_flow": null,
            "grid_auto_rows": null,
            "grid_column": null,
            "grid_gap": null,
            "grid_row": null,
            "grid_template_areas": null,
            "grid_template_columns": null,
            "grid_template_rows": null,
            "height": null,
            "justify_content": null,
            "justify_items": null,
            "left": null,
            "margin": null,
            "max_height": null,
            "max_width": null,
            "min_height": null,
            "min_width": null,
            "object_fit": null,
            "object_position": null,
            "order": null,
            "overflow": null,
            "overflow_x": null,
            "overflow_y": null,
            "padding": null,
            "right": null,
            "top": null,
            "visibility": null,
            "width": null
          }
        },
        "3e8d32e5bf4e4575865d0d7d59fb2d6a": {
          "model_module": "@jupyter-widgets/controls",
          "model_name": "ProgressStyleModel",
          "model_module_version": "1.5.0",
          "state": {
            "_model_module": "@jupyter-widgets/controls",
            "_model_module_version": "1.5.0",
            "_model_name": "ProgressStyleModel",
            "_view_count": null,
            "_view_module": "@jupyter-widgets/base",
            "_view_module_version": "1.2.0",
            "_view_name": "StyleView",
            "bar_color": null,
            "description_width": ""
          }
        },
        "f3f7e2384be741abb50ec6b4e1d304b9": {
          "model_module": "@jupyter-widgets/base",
          "model_name": "LayoutModel",
          "model_module_version": "1.2.0",
          "state": {
            "_model_module": "@jupyter-widgets/base",
            "_model_module_version": "1.2.0",
            "_model_name": "LayoutModel",
            "_view_count": null,
            "_view_module": "@jupyter-widgets/base",
            "_view_module_version": "1.2.0",
            "_view_name": "LayoutView",
            "align_content": null,
            "align_items": null,
            "align_self": null,
            "border": null,
            "bottom": null,
            "display": null,
            "flex": null,
            "flex_flow": null,
            "grid_area": null,
            "grid_auto_columns": null,
            "grid_auto_flow": null,
            "grid_auto_rows": null,
            "grid_column": null,
            "grid_gap": null,
            "grid_row": null,
            "grid_template_areas": null,
            "grid_template_columns": null,
            "grid_template_rows": null,
            "height": null,
            "justify_content": null,
            "justify_items": null,
            "left": null,
            "margin": null,
            "max_height": null,
            "max_width": null,
            "min_height": null,
            "min_width": null,
            "object_fit": null,
            "object_position": null,
            "order": null,
            "overflow": null,
            "overflow_x": null,
            "overflow_y": null,
            "padding": null,
            "right": null,
            "top": null,
            "visibility": null,
            "width": null
          }
        },
        "457747bd1c2d4d2d90ab1a00c704987a": {
          "model_module": "@jupyter-widgets/controls",
          "model_name": "DescriptionStyleModel",
          "model_module_version": "1.5.0",
          "state": {
            "_model_module": "@jupyter-widgets/controls",
            "_model_module_version": "1.5.0",
            "_model_name": "DescriptionStyleModel",
            "_view_count": null,
            "_view_module": "@jupyter-widgets/base",
            "_view_module_version": "1.2.0",
            "_view_name": "StyleView",
            "description_width": ""
          }
        }
      }
    }
  },
  "nbformat": 4,
  "nbformat_minor": 0
}